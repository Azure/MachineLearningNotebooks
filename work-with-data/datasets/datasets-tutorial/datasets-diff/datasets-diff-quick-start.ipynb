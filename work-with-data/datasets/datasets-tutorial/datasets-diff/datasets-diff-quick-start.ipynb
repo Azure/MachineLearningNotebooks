{
 "cells": [
  {
   "cell_type": "markdown",
   "metadata": {},
   "source": [
    "Copyright (c) Microsoft Corporation. All rights reserved.\n",
    "\n",
    "Licensed under the MIT License."
   ]
  },
  {
   "cell_type": "markdown",
   "metadata": {},
   "source": [
    "![Impressions](https://PixelServer20190423114238.azurewebsites.net/api/impressions/MachineLearningNotebooks//notebooks/work-with-data/datasets/datasets-tutorial/datasets-diff.png)"
   ]
  },
  {
   "cell_type": "markdown",
   "metadata": {},
   "source": [
    "This notebook provides a quick demo on how to compare two different datasets with diff API on local environment, workspace is note required."
   ]
  },
  {
   "cell_type": "markdown",
   "metadata": {},
   "source": [
    "# Prerequisites and Setup\n",
    "\n",
    "## Prerequisites\n",
    "\n",
    "### Install Supporting Packages"
   ]
  },
  {
   "cell_type": "markdown",
   "metadata": {},
   "source": [
    "- pip install tqdm<br>\n",
    "- pip install pandas<br>"
   ]
  },
  {
   "cell_type": "markdown",
   "metadata": {},
   "source": [
    "### Install AzureML Packages"
   ]
  },
  {
   "cell_type": "markdown",
   "metadata": {},
   "source": [
    "- pip install azureml-core\n",
    "\n",
    "- pip install azureml-opendatasets"
   ]
  },
  {
   "cell_type": "markdown",
   "metadata": {},
   "source": [
    "### Import Dependencies"
   ]
  },
  {
   "cell_type": "code",
   "execution_count": null,
   "metadata": {},
   "outputs": [],
   "source": [
    "import os\n",
    "import csv\n",
    "import pandas as pd\n",
    "import azureml.core\n",
    "from tqdm import tqdm\n",
    "from IPython import display"
   ]
  },
  {
   "cell_type": "markdown",
   "metadata": {},
   "source": [
    "## Create Two Datasets"
   ]
  },
  {
   "cell_type": "markdown",
   "metadata": {},
   "source": [
    "## Prepare Datasets\n",
    "\n",
    "The diff calcualtion is between two datasets, for demo, we use \"baseline\" and \"target\" to present them."
   ]
  },
  {
   "cell_type": "code",
   "execution_count": null,
   "metadata": {},
   "outputs": [],
   "source": [
    "data_1 = [\n",
    "          \"Index,Unnamed: 0,Year,Month,Day,DayOfWeek,CRSDepartureTime,CRSArrivalTime,UniqueCarrier,FlightNumber,ActualElapsedTime,Origin,Destination,Distance,ArrivalDelay\",\n",
    "          \"0,829437,1996,2,27,1,745,818,1285,523,90,1148,3021,410,-4\",\n",
    "          \"1,12556,1996,1,1,7,1955,2108,1310,475,73,1145,1030,361,8\",\n",
    "          \"2,3557014,1995,9,4,1,1430,1546,221,461,85,2681,2935,421,29\",\n",
    "          \"3,4254197,1994,10,23,1,1435,1530,921,1245,60,2328,1119,221,5\",\n",
    "          \"4,1619494,1995,4,22,6,1010,1145,1299,1024,85,985,2532,409,-4\",\n",
    "          \"5,251820,1995,1,18,3,1250,1624,101,1842,198,1269,2588,1103,95\",\n",
    "          \"6,3788834,1995,9,20,3,1705,1925,101,823,350,2251,2040,2342,30\",\n",
    "          \"7,2442437,1995,6,18,7,1922,2030,1310,1151,84,2917,2627,335,20\",\n",
    "          \"8,2753916,1995,7,10,1,1720,1755,1310,2144,38,1145,894,92,7\",\n",
    "          \"9,2663039,1995,7,4,2,1220,1320,442,1971,177,1269,2518,1189,-5\",\n",
    "          \"10,5028416,1994,12,18,1,0,0,101,190,276,2040,1836,2288,-2\",\n",
    "          \"11,3516648,1995,9,1,5,1215,1443,1310,37,342,2627,2935,2254,13\",\n",
    "          \"12,2642148,1995,7,2,7,1740,1950,921,1772,60,2326,1306,312,-14\",\n",
    "          \"13,34980,1996,1,3,2,1135,1550,1310,1677,204,1145,2963,1474,12\",\n",
    "          \"14,2226712,1995,6,3,6,1855,2009,1299,1493,175,880,1264,1199,-21\",\n",
    "          \"15,2266226,1995,6,6,2,1520,1805,921,435,143,2213,1306,957,-5\",\n",
    "          \"16,1737134,1995,4,30,7,1310,1541,921,645,204,2812,2328,1416,-8\",\n",
    "          \"17,3969489,1994,10,3,2,1300,1355,221,94,53,1485,839,261,-5\",\n",
    "          \"18,3713729,1995,9,15,5,1205,1356,379,168,107,1838,2210,643,-3\",\n",
    "          \"19,4348793,1994,10,30,1,920,1153,221,230,149,2922,2882,1050,-4\",\n",
    "          \"20,4322070,1994,10,28,6,930,1135,1299,433,200,2532,2970,1249,72\"\n",
    "         ]\n",
    "\n",
    "file = open('baseline.csv', 'w', newline='')\n",
    "writer = csv.writer(file, delimiter = ',')\n",
    "writer.writerows([x.split(',') for x in data_1])\n",
    "file.close()"
   ]
  },
  {
   "cell_type": "code",
   "execution_count": null,
   "metadata": {},
   "outputs": [],
   "source": [
    "data_2 = [\n",
    "          \"Timestamp,CorrelationId,RequestId,Month,Day,DayOfWeek,CRSDepartureTime,CRSArrivalTime,UniqueCarrier,FlightNumber,ActualElapsedTime,Origin,Destination,Distance\",\n",
    "          \"2019-04-13T00:25:59.497169,bae824ce-4936-4af0-911d-e7a8aa7def9b,1995,2,22,3,635,730,379,1790,55,1521,3127,197\",\n",
    "          \"2019-04-13T00:26:00.197519,fc9f88a6-6b10-4ccc-b042-9b265d2f4bfa,1995,2,12,7,1425,1709,921,594,93,2328,1203,596\",\n",
    "          \"2019-04-13T00:26:01.025050,5289f767-b905-4e38-a4b9-c0bfda172cb4,1995,1,9,1,1256,1510,442,1279,122,1203,1521,932\",\n",
    "          \"2019-04-13T00:26:01.969113,dae38475-f205-49a6-b2f7-cb7afe6d0231,1995,3,4,6,1505,1620,1391,1206,69,2980,2040,373\",\n",
    "          \"2019-04-13T00:26:02.770585,0520a115-9701-40e9-bc96-29efc05d9995,1995,8,2,3,1840,2025,1310,2306,111,1145,2062,544\",\n",
    "          \"2019-04-13T00:26:03.577874,5300830f-c075-4798-ad02-7e7413b7ea10,1994,11,5,7,1805,2242,1299,1492,146,1264,1148,1155\",\n",
    "          \"2019-04-13T00:26:04.269447,ad46ffea-dd1d-43e6-b25c-fd24cc2f0680,1994,11,9,4,730,1017,442,797,172,993,2213,1121\",\n",
    "          \"2019-04-13T00:26:05.013979,e2e2b527-8e28-4a47-bacf-62270f764862,1994,11,12,7,1805,1826,921,1465,64,1306,2532,235\",\n",
    "          \"2019-04-13T00:26:05.768184,119317c8-2e73-4fa3-b017-64969634fbf5,1994,12,9,4,1625,1815,442,1167,115,1306,880,594\"\n",
    "         ]\n",
    "\n",
    "file = open('target.csv', 'w', newline='')\n",
    "writer = csv.writer(file, delimiter = ',')\n",
    "writer.writerows([x.split(',') for x in data_2])\n",
    "file.close()"
   ]
  },
  {
   "cell_type": "markdown",
   "metadata": {},
   "source": [
    "# Execute Datasets' Diff Calculation Locally\n",
    "\n",
    "Local execution let you to run in a Jupyter Notebook or Code editor in a local computer.\n",
    "\n",
    "## Calculate Dataset Diff At Local\n",
    "\n",
    "### Create Baseline Dataset\n",
    "\n",
    "Create baseline dataset object from the retrieved baseline data。"
   ]
  },
  {
   "cell_type": "code",
   "execution_count": null,
   "metadata": {},
   "outputs": [],
   "source": [
    "from azureml.core import Dataset\n",
    "\n",
    "baseline = Dataset.auto_read_files('baseline.csv', include_path=False)\n",
    "\n",
    "baseline.get_profile()"
   ]
  },
  {
   "cell_type": "markdown",
   "metadata": {},
   "source": [
    "### Create Target Datasets\n",
    "\n",
    "Create target dataset objects from retrieved target data."
   ]
  },
  {
   "cell_type": "code",
   "execution_count": null,
   "metadata": {},
   "outputs": [],
   "source": [
    "target = Dataset.auto_read_files('target.csv', include_path=False)\n",
    "\n",
    "target.get_profile()"
   ]
  },
  {
   "cell_type": "markdown",
   "metadata": {},
   "source": [
    "### Calculate Diff Between Each Target Dataset And Baseline Dataset\n",
    "\n",
    "Compare each target dataset with baseline dataset to calculate diff between them."
   ]
  },
  {
   "cell_type": "code",
   "execution_count": null,
   "metadata": {},
   "outputs": [],
   "source": [
    "# import warnings\n",
    "# warnings.filterwarnings('ignore')\n",
    "\n",
    "diff = baseline.diff(rhs_dataset=target)"
   ]
  },
  {
   "cell_type": "markdown",
   "metadata": {},
   "source": [
    "# Predefine Methods For Result Processing\n",
    "\n",
    "## Parse and Present Datasets' Diff Results\n",
    "\n",
    "Each diff result is a list of \"DiffMetric\" objects. Typically each objec present a detailed measurement output for a specific column.\n",
    "\n",
    "Below is an example of \"DiffMetric\" object:\n",
    "\n",
    "\n",
    "    {\n",
    "       'name':'percentage_difference_median',  # measurement name\n",
    "       'value':0.01270670472603889,            # a number to indicate how big the diff is for current measurement.\n",
    "       'extended_properties':{\n",
    "          'column_name':'elevation',           # column name in dataset,\n",
    "                                                 could be ['name':'datadrift_coefficient'] for dataset level diff\n",
    "          'metric_category':'profile_diff'     # category, could be :\n",
    "                                                   dataset_drift (dataset level)\n",
    "                                                   profile_diff (column level)\n",
    "                                                   statistical_distance (column level)\n",
    "       }\n",
    "    }"
   ]
  },
  {
   "cell_type": "code",
   "execution_count": null,
   "metadata": {},
   "outputs": [],
   "source": [
    "from pandas import DataFrame\n",
    "\n",
    "measurements = set()\n",
    "columns = set()\n",
    "\n",
    "for r in diff._result:\n",
    "    if r.name not in measurements:\n",
    "        measurements.add(r.name)\n",
    "    if \"column_name\" in r.extended_properties and r.extended_properties[\"column_name\"] not in columns:\n",
    "        columns.add(r.extended_properties[\"column_name\"])\n",
    "\n",
    "measurementlist = list(measurements)\n",
    "columnlist = list(columns)\n",
    "columnlist.insert(0, \"measurements \\ columns\")\n",
    "\n",
    "daily_result = []\n",
    "daily_result.append(columnlist)\n",
    "\n",
    "drift = None\n",
    "daily_contribution = {}\n",
    "\n",
    "for m in measurements:\n",
    "    emptylist = ([''] * len(columns))\n",
    "    emptylist.insert(0, m)\n",
    "    daily_result.append(emptylist)\n",
    "\n",
    "for r in diff._result:\n",
    "    # get dataset level diff (drift)\n",
    "    if r.name == \"datadrift_coefficient\":\n",
    "        drift = r.value\n",
    "    # get diff (drift) contribution for each column:\n",
    "    elif r.name == \"datadrift_contribution\":\n",
    "        daily_contribution[r.extended_properties[\"column_name\"]] = r.value\n",
    "    # get column level diff measurements\n",
    "    else:\n",
    "        if \"column_name\" in r.extended_properties:\n",
    "            col = r.extended_properties[\"column_name\"]\n",
    "            msm = r.name\n",
    "            val = r.value\n",
    "            cid = columnlist.index(col)\n",
    "            kid = measurementlist.index(msm) + 1\n",
    "            daily_result[kid][cid] = val\n",
    "\n",
    "display.display(pd.DataFrame(daily_result))"
   ]
  }
 ],
 "metadata": {
  "authors": [
   {
    "name": "davx"
   }
  ],
  "kernelspec": {
   "display_name": "Python 3.6",
   "language": "python",
   "name": "python36"
  },
  "language_info": {
   "codemirror_mode": {
    "name": "ipython",
    "version": 3
   },
   "file_extension": ".py",
   "mimetype": "text/x-python",
   "name": "python",
   "nbconvert_exporter": "python",
   "pygments_lexer": "ipython3",
   "version": "3.6.8"
  },
  "notice": "Copyright (c) Microsoft Corporation. All rights reserved. Licensed under the MIT License."
 },
 "nbformat": 4,
 "nbformat_minor": 2
}
