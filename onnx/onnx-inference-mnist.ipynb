{
 "cells": [
  {
   "cell_type": "markdown",
   "metadata": {},
   "source": [
    "Copyright (c) Microsoft Corporation. All rights reserved.  \n",
    "Licensed under the MIT License."
   ]
  },
  {
   "cell_type": "markdown",
   "metadata": {},
   "source": [
    "# 01. Handwritten Digit Classification (MNIST) using ONNX Runtime on AzureML\n",
    "\n",
    "This example shows how to deploy an image classification neural network using the Modified National Institute of Standards and Technology ([MNIST](http://yann.lecun.com/exdb/mnist/)) dataset and Open Neural Network eXchange format ([ONNX](http://aka.ms/onnxdocarticle)) on the Azure Machine Learning platform. MNIST is a popular dataset consisting of 70,000 grayscale images. Each image is a handwritten digit of 28x28 pixels, representing number from 0 to 9. This tutorial will show you how to deploy a MNIST model from the [ONNX model zoo](https://github.com/onnx/models), use it to make predictions using ONNX Runtime Inference, and deploy it as a web service in Azure.\n",
    "\n",
    "Throughout this tutorial, we will be referring to ONNX, a neural network exchange format used to represent deep learning models. With ONNX, AI developers can more easily move models between state-of-the-art tools (CNTK, PyTorch, Caffe, MXNet, TensorFlow) and choose the combination that is best for them. ONNX is developed and supported by a community of partners including Microsoft AI, Facebook, and Amazon. For more information, explore the [ONNX website](http://onnx.ai) and [open source files](https://github.com/onnx).\n",
    "\n",
    "[ONNX Runtime](https://aka.ms/onnxruntime) is the runtime engine that enables evaluation of trained machine learning (Traditional ML and Deep Learning) models with high performance and low resource utilization.\n",
    "\n",
    "#### Tutorial Objectives:\n",
    "\n",
    "1. Describe the MNIST dataset and pretrained Convolutional Neural Net ONNX model, stored in the ONNX model zoo.\n",
    "2. Deploy and run the pretrained MNIST ONNX model on an Azure Machine Learning instance\n",
    "3. Predict labels for test set data points in the cloud using ONNX Runtime and Azure ML"
   ]
  },
  {
   "cell_type": "markdown",
   "metadata": {},
   "source": [
    "## Prerequisites\n",
    "\n",
    "### 1. Install Azure ML SDK and create a new workspace\n",
    "Please follow [00.configuration.ipynb](https://github.com/Azure/MachineLearningNotebooks/blob/master/00.configuration.ipynb) notebook.\n",
    "\n",
    "\n",
    "### 2. Install additional packages needed for this Notebook\n",
    "You need to install the popular plotting library `matplotlib` and the `onnx` library in the conda environment where Azure Maching Learning SDK is installed.\n",
    "\n",
    "```sh\n",
    "(myenv) $ pip install matplotlib onnx\n",
    "```\n",
    "\n",
    "### 3. Download sample data and pre-trained ONNX model from ONNX Model Zoo.\n",
    "\n",
    "[Download the ONNX MNIST model and corresponding test data](https://www.cntk.ai/OnnxModels/mnist/opset_7/mnist.tar.gz) and place them in the same folder as this tutorial notebook. You can unzip the file through the following line of code.\n",
    "\n",
    "```sh\n",
    "(myenv) $ tar xvzf mnist.tar.gz\n",
    "```\n",
    "\n",
    "More information can be found about the ONNX MNIST model on [github](https://github.com/onnx/models/tree/master/mnist). For more information about the MNIST dataset, please visit [Yan LeCun's website](http://yann.lecun.com/exdb/mnist/)."
   ]
  },
  {
   "cell_type": "markdown",
   "metadata": {},
   "source": [
    "## Load Azure ML workspace\n",
    "\n",
    "We begin by instantiating a workspace object from the existing workspace created earlier in the configuration notebook."
   ]
  },
  {
   "cell_type": "code",
   "execution_count": null,
   "metadata": {},
   "outputs": [],
   "source": [
    "# Check core SDK version number\n",
    "import azureml.core\n",
    "\n",
    "print(\"SDK version:\", azureml.core.VERSION)"
   ]
  },
  {
   "cell_type": "code",
   "execution_count": null,
   "metadata": {},
   "outputs": [],
   "source": [
    "from azureml.core import Workspace\n",
    "\n",
    "ws = Workspace.from_config()\n",
    "print(ws.name, ws.resource_group, ws.location, sep = '\\n')"
   ]
  },
  {
   "cell_type": "markdown",
   "metadata": {},
   "source": [
    "### Registering your model with Azure ML"
   ]
  },
  {
   "cell_type": "code",
   "execution_count": null,
   "metadata": {},
   "outputs": [],
   "source": [
    "model_dir = \"mnist\" # replace this with the location of your model files\n",
    "\n",
    "# leave as is if it's in the same folder as this notebook"
   ]
  },
  {
   "cell_type": "code",
   "execution_count": null,
   "metadata": {},
   "outputs": [],
   "source": [
    "from azureml.core.model import Model\n",
    "\n",
    "model = Model.register(model_path = model_dir + \"//model.onnx\",\n",
    "                       model_name = \"mnist_1\",\n",
    "                       tags = {\"onnx\": \"demo\"},\n",
    "                       description = \"MNIST image classification CNN from ONNX Model Zoo\",\n",
    "                       workspace = ws)"
   ]
  },
  {
   "cell_type": "markdown",
   "metadata": {},
   "source": [
    "### Optional: Displaying your registered models\n",
    "\n",
    "This step is not required, so feel free to skip it."
   ]
  },
  {
   "cell_type": "code",
   "execution_count": null,
   "metadata": {},
   "outputs": [],
   "source": [
    "models = ws.models()\n",
    "for m in models:\n",
    "    print(\"Name:\", m.name,\"\\tVersion:\", m.version, \"\\tDescription:\", m.description, m.tags)"
   ]
  },
  {
   "cell_type": "markdown",
   "metadata": {
    "nbpresent": {
     "id": "c3f2f57c-7454-4d3e-b38d-b0946cf066ea"
    }
   },
   "source": [
    "### ONNX MNIST Model Methodology\n",
    "\n",
    "The image classification model we are using is pre-trained using Microsoft's deep learning cognitive toolkit, [CNTK](https://github.com/Microsoft/CNTK), from the [ONNX model zoo](http://github.com/onnx/models). The model zoo has many other models that can be deployed on cloud providers like AzureML without any additional training. To ensure that our cloud deployed model works, we use testing data from the famous MNIST data set, provided as part of the [trained MNIST model](https://github.com/onnx/models/tree/master/mnist) in the ONNX model zoo.\n",
    "\n",
    "***Input: Handwritten Images from MNIST Dataset***\n",
    "\n",
    "***Task: Classify each MNIST image into an appropriate digit***\n",
    "\n",
    "***Output: Digit prediction for input image***\n",
    "\n",
    "Run the cell below to look at some of the sample images from the MNIST dataset that we used to train this ONNX model. Remember, once the application is deployed in Azure ML, you can use your own images as input for the model to classify!"
   ]
  },
  {
   "cell_type": "code",
   "execution_count": null,
   "metadata": {},
   "outputs": [],
   "source": [
    "# for images and plots in this notebook\n",
    "import matplotlib.pyplot as plt  \n",
    "from IPython.display import Image\n",
    "\n",
    "# display images inline\n",
    "%matplotlib inline"
   ]
  },
  {
   "cell_type": "code",
   "execution_count": null,
   "metadata": {},
   "outputs": [],
   "source": [
    "Image(url=\"http://3.bp.blogspot.com/_UpN7DfJA0j4/TJtUBWPk0SI/AAAAAAAAABY/oWPMtmqJn3k/s1600/mnist_originals.png\", width=200, height=200)"
   ]
  },
  {
   "cell_type": "markdown",
   "metadata": {},
   "source": [
    "## Deploy our model on Azure ML"
   ]
  },
  {
   "cell_type": "markdown",
   "metadata": {},
   "source": [
    "We are now going to deploy our ONNX Model on AML with inference in ONNX Runtime. We begin by writing a score.py file, which will help us run the model in our Azure ML virtual machine (VM), and then specify our environment by writing a yml file.\n",
    "\n",
    "You will also notice that we import the onnxruntime library to do runtime inference on our ONNX models (passing in input and evaluating out model's predicted output). More information on the API and commands can be found in the [ONNX Runtime documentation](https://aka.ms/onnxruntime).\n",
    "\n",
    "### Write Score File\n",
    "\n",
    "A score file is what tells our Azure cloud service what to do. After initializing our model using azureml.core.model, we start an ONNX Runtime inference session to evaluate the data passed in on our function calls."
   ]
  },
  {
   "cell_type": "code",
   "execution_count": null,
   "metadata": {},
   "outputs": [],
   "source": [
    "%%writefile score.py\n",
    "import json\n",
    "import numpy as np\n",
    "import onnxruntime\n",
    "import sys\n",
    "import os\n",
    "from azureml.core.model import Model\n",
    "import time\n",
    "\n",
    "\n",
    "def init():\n",
    "    global session\n",
    "    model = Model.get_model_path(model_name = 'mnist_1')\n",
    "    session = onnxruntime.InferenceSession(model, None)\n",
    "    \n",
    "def run(input_data):\n",
    "    '''Purpose: evaluate test input in Azure Cloud using onnxruntime.\n",
    "        We will call the run function later from our Jupyter Notebook \n",
    "        so our azure service can evaluate our model input in the cloud. '''\n",
    "\n",
    "    try:\n",
    "        # load in our data, convert to readable format\n",
    "        start = time.time()\n",
    "        data = np.array(json.loads(input_data)['data']).astype('float32')\n",
    "\n",
    "        r = session.run([\"Plus214_Output_0\"], {\"Input3\": data})[0]\n",
    "        result = choose_class(r[0])\n",
    "        end = time.time()\n",
    "        result_dict = {\"result\": np.array(result).tolist(),\n",
    "                      \"time\": np.array(end - start).tolist()}\n",
    "    except Exception as e:\n",
    "        result_dict = {\"error\": str(e)}\n",
    "    \n",
    "    return json.dumps(result_dict)\n",
    "\n",
    "def choose_class(result_prob):\n",
    "    \"\"\"We use argmax to determine the right label to choose from our output, after calling softmax on the 10 numbers we receive\"\"\"\n",
    "    return int(np.argmax(result_prob, axis=0))"
   ]
  },
  {
   "cell_type": "markdown",
   "metadata": {},
   "source": [
    "### Write Environment File"
   ]
  },
  {
   "cell_type": "markdown",
   "metadata": {},
   "source": [
    "This step creates a YAML file that specifies which dependencies we would like to see in our Linux Virtual Machine."
   ]
  },
  {
   "cell_type": "code",
   "execution_count": null,
   "metadata": {},
   "outputs": [],
   "source": [
    "from azureml.core.conda_dependencies import CondaDependencies \n",
    "\n",
    "myenv = CondaDependencies()\n",
    "myenv.add_pip_package(\"numpy\")\n",
    "myenv.add_pip_package(\"azureml-core\")\n",
    "myenv.add_pip_package(\"onnxruntime\")\n",
    "\n",
    "\n",
    "with open(\"myenv.yml\",\"w\") as f:\n",
    "    f.write(myenv.serialize_to_string())"
   ]
  },
  {
   "cell_type": "markdown",
   "metadata": {},
   "source": [
    "### Create the Container Image\n",
    "\n",
    "This step will likely take a few minutes."
   ]
  },
  {
   "cell_type": "code",
   "execution_count": null,
   "metadata": {},
   "outputs": [],
   "source": [
    "from azureml.core.image import ContainerImage\n",
    "\n",
    "image_config = ContainerImage.image_configuration(execution_script = \"score.py\",\n",
    "                                                  runtime = \"python\",\n",
    "                                                  conda_file = \"myenv.yml\",\n",
    "                                                  description = \"test\",\n",
    "                                                  tags = {\"demo\": \"onnx\"} \n",
    "                                                 )\n",
    "\n",
    "\n",
    "image = ContainerImage.create(name = \"onnxtest\",\n",
    "                              # this is the model object\n",
    "                              models = [model],\n",
    "                              image_config = image_config,\n",
    "                              workspace = ws)\n",
    "\n",
    "image.wait_for_creation(show_output = True)"
   ]
  },
  {
   "cell_type": "markdown",
   "metadata": {},
   "source": [
    "### Debugging\n",
    "\n",
    "In case you need to debug your code, the next line of code accesses the log file."
   ]
  },
  {
   "cell_type": "code",
   "execution_count": null,
   "metadata": {},
   "outputs": [],
   "source": [
    "print(image.image_build_log_uri)"
   ]
  },
  {
   "cell_type": "markdown",
   "metadata": {},
   "source": [
    "We're all set! Let's get our model chugging.\n",
    "\n",
    "## Deploy the container image"
   ]
  },
  {
   "cell_type": "code",
   "execution_count": null,
   "metadata": {},
   "outputs": [],
   "source": [
    "from azureml.core.webservice import AciWebservice\n",
    "\n",
    "aciconfig = AciWebservice.deploy_configuration(cpu_cores = 1, \n",
    "                                               memory_gb = 1, \n",
    "                                               tags = {'demo': 'onnx'}, \n",
    "                                               description = 'ONNX for mnist model')"
   ]
  },
  {
   "cell_type": "markdown",
   "metadata": {},
   "source": [
    "The following cell will likely take a few minutes to run as well."
   ]
  },
  {
   "cell_type": "code",
   "execution_count": null,
   "metadata": {},
   "outputs": [],
   "source": [
    "from azureml.core.webservice import Webservice\n",
    "\n",
    "aci_service_name = 'onnx-demo-mnist'\n",
    "print(\"Service\", aci_service_name)\n",
    "\n",
    "aci_service = Webservice.deploy_from_image(deployment_config = aciconfig,\n",
    "                                           image = image,\n",
    "                                           name = aci_service_name,\n",
    "                                           workspace = ws)\n",
    "\n",
    "aci_service.wait_for_deployment(True)\n",
    "print(aci_service.state)"
   ]
  },
  {
   "cell_type": "code",
   "execution_count": null,
   "metadata": {},
   "outputs": [],
   "source": [
    "if aci_service.state != 'Healthy':\n",
    "    # run this command for debugging.\n",
    "    print(aci_service.get_logs())\n",
    "\n",
    "    # If your deployment fails, make sure to delete your aci_service or rename your service before trying again!\n",
    "    # aci_service.delete()"
   ]
  },
  {
   "cell_type": "markdown",
   "metadata": {},
   "source": [
    "### Success!\n",
    "\n",
    "If you've made it this far, you've deployed a working VM with a handwritten digit classifier running in the cloud using Azure ML. Congratulations!\n",
    "\n",
    "Let's see how well our model deals with our test images."
   ]
  },
  {
   "cell_type": "markdown",
   "metadata": {},
   "source": [
    "# Testing and Evaluation"
   ]
  },
  {
   "cell_type": "markdown",
   "metadata": {},
   "source": [
    "## Load Test Data\n",
    "\n",
    "These are already in your directory from your ONNX model download (from the model zoo). If you didn't place your model and test data in the same directory as this notebook, edit the \"model_dir\" filename below."
   ]
  },
  {
   "cell_type": "code",
   "execution_count": null,
   "metadata": {},
   "outputs": [],
   "source": [
    "# to manipulate our arrays\n",
    "import numpy as np \n",
    "\n",
    "# read in test data protobuf files included with the model\n",
    "import onnx\n",
    "from onnx import numpy_helper\n",
    "\n",
    "# to use parsers to read in our model/data\n",
    "import json\n",
    "import os\n",
    "\n",
    "test_inputs = []\n",
    "test_outputs = []\n",
    "\n",
    "# read in 3 testing images from .pb files\n",
    "test_data_size = 3\n",
    "\n",
    "for i in np.arange(test_data_size):\n",
    "    input_test_data = os.path.join(model_dir, 'test_data_set_{0}'.format(i), 'input_0.pb')\n",
    "    output_test_data = os.path.join(model_dir, 'test_data_set_{0}'.format(i), 'output_0.pb')\n",
    "    \n",
    "    # convert protobuf tensors to np arrays using the TensorProto reader from ONNX\n",
    "    tensor = onnx.TensorProto()\n",
    "    with open(input_test_data, 'rb') as f:\n",
    "        tensor.ParseFromString(f.read())\n",
    "    \n",
    "    input_data = numpy_helper.to_array(tensor)\n",
    "    test_inputs.append(input_data)\n",
    "    \n",
    "    with open(output_test_data, 'rb') as f:\n",
    "        tensor.ParseFromString(f.read())\n",
    "    \n",
    "    output_data = numpy_helper.to_array(tensor)\n",
    "    test_outputs.append(output_data)\n",
    "    \n",
    "if len(test_inputs) == test_data_size:\n",
    "    print('Test data loaded successfully.')"
   ]
  },
  {
   "cell_type": "markdown",
   "metadata": {
    "nbpresent": {
     "id": "c3f2f57c-7454-4d3e-b38d-b0946cf066ea"
    }
   },
   "source": [
    "### Show some sample images\n",
    "We use `matplotlib` to plot 3 test images from the dataset."
   ]
  },
  {
   "cell_type": "code",
   "execution_count": null,
   "metadata": {
    "nbpresent": {
     "id": "396d478b-34aa-4afa-9898-cdce8222a516"
    }
   },
   "outputs": [],
   "source": [
    "plt.figure(figsize = (16, 6))\n",
    "for test_image in np.arange(3):\n",
    "    plt.subplot(1, 15, test_image+1)\n",
    "    plt.axhline('')\n",
    "    plt.axvline('')\n",
    "    plt.imshow(test_inputs[test_image].reshape(28, 28), cmap = plt.cm.Greys)\n",
    "plt.show()"
   ]
  },
  {
   "cell_type": "markdown",
   "metadata": {},
   "source": [
    "### Run evaluation / prediction"
   ]
  },
  {
   "cell_type": "code",
   "execution_count": null,
   "metadata": {},
   "outputs": [],
   "source": [
    "plt.figure(figsize = (16, 6), frameon=False)\n",
    "plt.subplot(1, 8, 1)\n",
    "\n",
    "plt.text(x = 0, y = -30, s = \"True Label: \", fontsize = 13, color = 'black')\n",
    "plt.text(x = 0, y = -20, s = \"Result: \", fontsize = 13, color = 'black')\n",
    "plt.text(x = 0, y = -10, s = \"Inference Time: \", fontsize = 13, color = 'black')\n",
    "plt.text(x = 3, y = 14, s = \"Model Input\", fontsize = 12, color = 'black')\n",
    "plt.text(x = 6, y = 18, s = \"(28 x 28)\", fontsize = 12, color = 'black')\n",
    "plt.imshow(np.ones((28,28)), cmap=plt.cm.Greys)    \n",
    "\n",
    "\n",
    "for i in np.arange(test_data_size):\n",
    "    \n",
    "    input_data = json.dumps({'data': test_inputs[i].tolist()})\n",
    "    \n",
    "    # predict using the deployed model\n",
    "    r = json.loads(aci_service.run(input_data))\n",
    "    \n",
    "    if len(r) == 1:\n",
    "        print(r['error'])\n",
    "        break\n",
    "        \n",
    "    result = r['result']\n",
    "    time_ms = np.round(r['time'] * 1000, 2)\n",
    "    \n",
    "    ground_truth = int(np.argmax(test_outputs[i]))\n",
    "    \n",
    "    # compare actual value vs. the predicted values:\n",
    "    plt.subplot(1, 8, i+2)\n",
    "    plt.axhline('')\n",
    "    plt.axvline('')\n",
    "\n",
    "    # use different color for misclassified sample\n",
    "    font_color = 'red' if ground_truth != result else 'black'\n",
    "    clr_map = plt.cm.gray if ground_truth != result else plt.cm.Greys\n",
    "\n",
    "    # ground truth labels are in blue\n",
    "    plt.text(x = 10, y = -30, s = ground_truth, fontsize = 18, color = 'blue')\n",
    "    \n",
    "    # predictions are in black if correct, red if incorrect\n",
    "    plt.text(x = 10, y = -20, s = result, fontsize = 18, color = font_color)\n",
    "    plt.text(x = 5, y = -10, s = str(time_ms) + ' ms', fontsize = 14, color = font_color)\n",
    "\n",
    "    \n",
    "    plt.imshow(test_inputs[i].reshape(28, 28), cmap = clr_map)\n",
    "\n",
    "plt.show()"
   ]
  },
  {
   "cell_type": "markdown",
   "metadata": {},
   "source": [
    "### Try classifying your own images!\n",
    "\n",
    "Create your own 28 pixel by 28 pixel handwritten image and pass it into the model."
   ]
  },
  {
   "cell_type": "code",
   "execution_count": null,
   "metadata": {},
   "outputs": [],
   "source": [
    "# Preprocessing functions\n",
    "\n",
    "def rgb2gray(rgb):\n",
    "    \"\"\"Convert the input image into grayscale\"\"\"\n",
    "    return np.dot(rgb[...,:3], [0.299, 0.587, 0.114])\n",
    "\n",
    "def preprocess(img):\n",
    "    \"\"\"Resize input images and convert them to grayscale.\"\"\"\n",
    "    if img.shape[0] != 28:\n",
    "        print(\"Input image size is not 28 * 28 pixels. Please resize and try again.\")\n",
    "    grayscale = rgb2gray(img)\n",
    "    grayscale.resize((1, 1, 28, 28))\n",
    "    return grayscale"
   ]
  },
  {
   "cell_type": "code",
   "execution_count": null,
   "metadata": {},
   "outputs": [],
   "source": [
    "# Replace this string with your own path/test image\n",
    "# Make sure the dimensions are 28 * 28 pixels\n",
    "\n",
    "# Any PNG or JPG image file should work\n",
    "# Make sure to include the entire path with // instead of /\n",
    "\n",
    "# e.g. your_test_image = \"C://Users//vinitra.swamy//Pictures//digit.png\"\n",
    "\n",
    "your_test_image = \"<path to file>\"\n",
    "\n",
    "import matplotlib.image as mpimg\n",
    "\n",
    "if your_test_image != \"<path to file>\":\n",
    "    img = mpimg.imread(your_test_image)\n",
    "    plt.subplot(1,3,1)\n",
    "    plt.imshow(img, cmap = plt.cm.Greys)\n",
    "    print(\"Old Dimensions: \", img.shape)\n",
    "    img = preprocess(img)\n",
    "    print(\"New Dimensions: \", img.shape)\n",
    "else:\n",
    "    img = None"
   ]
  },
  {
   "cell_type": "code",
   "execution_count": null,
   "metadata": {},
   "outputs": [],
   "source": [
    "if img is None:\n",
    "    print(\"Add the path for your image data.\")\n",
    "else:\n",
    "    input_data = json.dumps({'data': img.tolist()})\n",
    "\n",
    "    try:\n",
    "        r = json.loads(aci_service.run(input_data))\n",
    "        result = r['result']\n",
    "        time_ms = np.round(r['time'] * 1000, 2)\n",
    "    except Exception as e:\n",
    "        print(str(e), r['error'])\n",
    "\n",
    "    plt.figure(figsize = (16, 6))\n",
    "    plt.subplot(1, 15,1)\n",
    "    plt.axhline('')\n",
    "    plt.axvline('')\n",
    "    plt.text(x = -100, y = -20, s = \"Model prediction: \", fontsize = 14)\n",
    "    plt.text(x = -100, y = -10, s = \"Inference time: \", fontsize = 14)\n",
    "    plt.text(x = 0, y = -20, s = str(result), fontsize = 14)\n",
    "    plt.text(x = 0, y = -10, s = str(time_ms) + \" ms\", fontsize = 14)\n",
    "    plt.text(x = -100, y = 14, s = \"Input image: \", fontsize = 14)\n",
    "    plt.imshow(img.reshape(28, 28), cmap = plt.cm.gray)    "
   ]
  },
  {
   "cell_type": "markdown",
   "metadata": {},
   "source": [
    "## Optional: How does our MNIST model work? \n",
    "#### A brief explanation of Convolutional Neural Networks\n",
    "\n",
    "A [convolutional neural network](https://en.wikipedia.org/wiki/Convolutional_neural_network) (CNN, or ConvNet) is a type of [feed-forward](https://en.wikipedia.org/wiki/Feedforward_neural_network) artificial neural network made up of neurons that have learnable weights and biases. The CNNs take advantage of the spatial nature of the data. In nature, we perceive different objects by their shapes, size and colors. For example, objects in a natural scene are typically edges, corners/vertices (defined by two of more edges), color patches etc. These primitives are often identified using different detectors (e.g., edge detection, color detector) or combination of detectors interacting to facilitate image interpretation (object classification, region of interest detection, scene description etc.) in real world vision related tasks. These detectors are also known as filters. Convolution is a mathematical operator that takes an image and a filter as input and produces a filtered output (representing say edges, corners, or colors in the input image).  \n",
    "\n",
    "Historically, these filters are a set of weights that were often hand crafted or modeled with mathematical functions (e.g., [Gaussian](https://en.wikipedia.org/wiki/Gaussian_filter) / [Laplacian](http://homepages.inf.ed.ac.uk/rbf/HIPR2/log.htm) / [Canny](https://en.wikipedia.org/wiki/Canny_edge_detector) filter).  The filter outputs are mapped through non-linear activation functions mimicking human brain cells called [neurons](https://en.wikipedia.org/wiki/Neuron). Popular deep CNNs or ConvNets (such as [AlexNet](https://en.wikipedia.org/wiki/AlexNet), [VGG](https://arxiv.org/abs/1409.1556), [Inception](http://www.cv-foundation.org/openaccess/content_cvpr_2015/papers/Szegedy_Going_Deeper_With_2015_CVPR_paper.pdf), [ResNet](https://arxiv.org/pdf/1512.03385v1.pdf)) that are used for various [computer vision](https://en.wikipedia.org/wiki/Computer_vision) tasks have many of these architectural primitives (inspired from biology).  \n",
    "\n",
    "### Convolution Layer\n",
    "\n",
    "A convolution layer is a set of filters. Each filter is defined by a weight (**W**) matrix, and  bias ($b$).\n",
    "\n",
    "![](https://www.cntk.ai/jup/cntk103d_filterset_v2.png)\n",
    "\n",
    "These filters are scanned across the image performing the dot product between the weights and corresponding input value ($x$). The bias value is added to the output of the dot product and the resulting sum is optionally mapped through an activation function. This process is illustrated in the following animation."
   ]
  },
  {
   "cell_type": "code",
   "execution_count": null,
   "metadata": {},
   "outputs": [],
   "source": [
    "Image(url=\"https://www.cntk.ai/jup/cntk103d_conv2d_final.gif\", width= 200)"
   ]
  },
  {
   "cell_type": "markdown",
   "metadata": {},
   "source": [
    "### Model Description\n",
    "\n",
    "The MNIST model from the ONNX Model Zoo uses maxpooling to update the weights in its convolutions, summarized by the graphic below. You can see the entire workflow of our pre-trained model in the following image, with our input images and our output probabilities of each of our 10 labels. If you're interested in exploring the logic behind creating a Deep Learning model further, please look at the [training tutorial for our ONNX MNIST Convolutional Neural Network](https://github.com/Microsoft/CNTK/blob/master/Tutorials/CNTK_103D_MNIST_ConvolutionalNeuralNetwork.ipynb). "
   ]
  },
  {
   "cell_type": "markdown",
   "metadata": {},
   "source": [
    "#### Max-Pooling for Convolutional Neural Nets\n",
    "\n",
    "![](http://www.cntk.ai/jup/c103d_max_pooling.gif)"
   ]
  },
  {
   "cell_type": "markdown",
   "metadata": {},
   "source": [
    "#### Pre-Trained Model Architecture\n",
    "\n",
    "![](http://www.cntk.ai/jup/conv103d_mnist-conv-mp.png)"
   ]
  },
  {
   "cell_type": "markdown",
   "metadata": {},
   "source": [
    "### Try classifying your own images!\n",
    "\n",
    "Create your own 28 pixel by 28 pixel handwritten image and pass it into the model."
   ]
  },
  {
   "cell_type": "code",
   "execution_count": null,
   "metadata": {},
   "outputs": [],
   "source": [
    "# Preprocessing functions\n",
    "\n",
    "def rgb2gray(rgb):\n",
    "    \"\"\"Convert the input image into grayscale\"\"\"\n",
    "    return np.dot(rgb[...,:3], [0.299, 0.587, 0.114])\n",
    "\n",
    "def preprocess(img):\n",
    "    \"\"\"Resize input images and convert them to grayscale.\"\"\"\n",
    "    if img.shape[0] != 28:\n",
    "        print(\"Input image size is not 28 * 28 pixels. Please resize and try again.\")\n",
    "    grayscale = rgb2gray(img)\n",
    "    grayscale.resize((1, 1, 28, 28))\n",
    "    return grayscale"
   ]
  },
  {
   "cell_type": "code",
   "execution_count": null,
   "metadata": {},
   "outputs": [],
   "source": [
    "# Replace this string with your own path/test image\n",
    "# Make sure the dimensions are 28 * 28 pixels\n",
    "\n",
    "# Any PNG or JPG image file should work\n",
    "# Make sure to include the entire path with // instead of /\n",
    "\n",
    "# e.g. your_test_image = \"C://Users//vinitra.swamy//Pictures//digit.png\"\n",
    "\n",
    "your_test_image = \"<path to file>\"\n",
    "\n",
    "import matplotlib.image as mpimg\n",
    "\n",
    "if your_test_image != \"<path to file>\":\n",
    "    img = mpimg.imread(your_test_image)\n",
    "    plt.subplot(1,3,1)\n",
    "    plt.imshow(img, cmap = plt.cm.Greys)\n",
    "    print(\"Old Dimensions: \", img.shape)\n",
    "    img = preprocess(img)\n",
    "    print(\"New Dimensions: \", img.shape)\n",
    "else:\n",
    "    img = None"
   ]
  },
  {
   "cell_type": "code",
   "execution_count": null,
   "metadata": {},
   "outputs": [],
   "source": [
    "if img is None:\n",
    "    print(\"Add the path for your image data.\")\n",
    "else:\n",
    "    input_data = json.dumps({'data': img.tolist()})\n",
    "\n",
    "    try:\n",
    "        r = json.loads(aci_service.run(input_data))\n",
    "        result = r['result']\n",
    "        time_ms = np.round(r['time'] * 1000, 2)\n",
    "    except Exception as e:\n",
    "        print(str(e), r['error'])\n",
    "\n",
    "    plt.figure(figsize = (16, 6))\n",
    "    plt.subplot(1, 15,1)\n",
    "    plt.axhline('')\n",
    "    plt.axvline('')\n",
    "    plt.text(x = -100, y = -20, s = \"Model prediction: \", fontsize = 14)\n",
    "    plt.text(x = -100, y = -10, s = \"Inference time: \", fontsize = 14)\n",
    "    plt.text(x = 0, y = -20, s = str(result), fontsize = 14)\n",
    "    plt.text(x = 0, y = -10, s = str(time_ms) + \" ms\", fontsize = 14)\n",
    "    plt.text(x = -100, y = 14, s = \"Input image: \", fontsize = 14)\n",
    "    plt.imshow(img.reshape(28, 28), cmap = plt.cm.gray)    "
   ]
  },
  {
   "cell_type": "code",
   "execution_count": null,
   "metadata": {},
   "outputs": [],
   "source": [
    "# remember to delete your service after you are done using it!\n",
    "# uncomment the following line of code to delete your service\n",
    "\n",
    "# aci_service.delete()"
   ]
  },
  {
   "cell_type": "markdown",
   "metadata": {},
   "source": [
    "## Conclusion\n",
    "\n",
    "Congratulations!\n",
    "\n",
    "In this tutorial, you have managed to:\n",
    "- familiarize yourself with the ONNX model format, ONNX Runtime inference, and the pretrained models in the ONNX model zoo\n",
    "- understand a state-of-the-art convolutional neural net image classification model (MNIST in ONNX) and deploy it in the Azure ML cloud\n",
    "- ensure that your deep learning model is working perfectly (in the cloud) on test data, and check it against some of your own!\n",
    "\n",
    "Next steps:\n",
    "- Check out another interesting application based on a Microsoft Research computer vision paper that lets you set up a [facial emotion recognition model](https://github.com/Azure/MachineLearningNotebooks/tree/master/onnx/onnx-inference-emotion-recognition.ipynb) in the cloud! This tutorial deploys a pre-trained ONNX Computer Vision model in an Azure ML virtual machine with GPU support.\n",
    "- Contribute to our [open source ONNX repository on github](http://github.com/onnx/onnx) and/or add to our [ONNX model zoo](http://github.com/onnx/models)"
   ]
  }
 ],
 "metadata": {
  "kernelspec": {
   "display_name": "Python 3.6",
   "language": "python",
   "name": "python36"
  },
  "language_info": {
   "codemirror_mode": {
    "name": "ipython",
    "version": 3
   },
   "file_extension": ".py",
   "mimetype": "text/x-python",
   "name": "python",
   "nbconvert_exporter": "python",
   "pygments_lexer": "ipython3",
   "version": "3.6.6"
  },
  "msauthor": "vinitra.swamy"
 },
 "nbformat": 4,
 "nbformat_minor": 2
}
