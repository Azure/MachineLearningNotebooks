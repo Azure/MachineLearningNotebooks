{
 "cells": [
  {
   "cell_type": "markdown",
   "metadata": {},
   "source": [
    "# Deploying a web service to Azure Kubernetes Service (AKS) with automatic Swagger schema generation"
   ]
  },
  {
   "cell_type": "code",
   "execution_count": 1,
   "metadata": {},
   "outputs": [],
   "source": [
    "from azureml.core import Workspace\n",
    "from azureml.core.compute import AksCompute, ComputeTarget\n",
    "from azureml.core.webservice import Webservice, AksWebservice\n",
    "from azureml.core.model import Model"
   ]
  },
  {
   "cell_type": "code",
   "execution_count": null,
   "metadata": {},
   "outputs": [],
   "source": [
    "import azureml.core\n",
    "from packaging import version\n",
    "\n",
    "core_version = azureml.core.VERSION\n",
    "print(core_version)\n",
    "assert version.parse(core_version) >= version.parse('1.13.0a0')"
   ]
  },
  {
   "cell_type": "markdown",
   "metadata": {},
   "source": [
    "# Get workspace\n",
    "Load workspace from an existing subscription"
   ]
  },
  {
   "cell_type": "code",
   "execution_count": null,
   "metadata": {},
   "outputs": [],
   "source": [
    "# using my own subsciption for testing\n",
    "ws = Workspace.from_config()\n",
    "print(ws.name, ws.resource_group, ws.location, ws.subscription_id, sep = '\\n')"
   ]
  },
  {
   "cell_type": "markdown",
   "metadata": {},
   "source": [
    "# Register the model\n",
    "Register an existing trained model, add descirption and tags."
   ]
  },
  {
   "cell_type": "code",
   "execution_count": null,
   "metadata": {},
   "outputs": [],
   "source": [
    "#Register the model\n",
    "from azureml.core.model import Model\n",
    "model = Model.register(model_path = \"sklearn_regression_model.pkl\", # this points to a local file\n",
    "                       model_name = \"sklearn_regression_model.pkl\", # this is the name the model is registered as\n",
    "                       tags = {'area': \"diabetes\", 'type': \"regression\"},\n",
    "                       description = \"Ridge regression model to predict diabetes\",\n",
    "                       workspace = ws)\n",
    "\n",
    "print(model.name, model.description, model.version)"
   ]
  },
  {
   "cell_type": "markdown",
   "metadata": {},
   "source": [
    "# Create the Environment\n",
    "Create an environment that the model will be deployed with"
   ]
  },
  {
   "cell_type": "code",
   "execution_count": 6,
   "metadata": {},
   "outputs": [],
   "source": [
    "from azureml.core import Environment\n",
    "from azureml.core.conda_dependencies import CondaDependencies \n",
    "\n",
    "conda_deps = CondaDependencies.create(conda_packages=['numpy','scikit-learn==0.19.1','scipy'], pip_packages=['azureml-defaults', 'inference-schema==1.1.0'])\n",
    "myenv = Environment(name='myenv')\n",
    "myenv.python.conda_dependencies = conda_deps"
   ]
  },
  {
   "cell_type": "code",
   "execution_count": 7,
   "metadata": {},
   "outputs": [],
   "source": [
    "# using my own ACR for testing, can be removed after release\n",
    "# myenv.docker._base_image =\"ttiye02.azurecr.io/samples/test_image\"\n",
    "# myenv.docker.base_image_registry.address = \"ttiye02.azurecr.io\"\n",
    "# myenv.docker.base_image_registry.username = \"ttiye02\"\n",
    "# myenv.docker.base_image_registry.password = \"+hvBWkb7D8uFSm2t+SIh=F6KGfwffR5y\""
   ]
  },
  {
   "cell_type": "markdown",
   "metadata": {},
   "source": [
    "# Write the Entry Script\n",
    "Write the script that will be used to predict on your model and automatically generate Swagger schema. To use schema generation, include the open-source inference-schema package in your dependencies file. For more information on this package, see https://github.com/Azure/InferenceSchema. Define the input and output sample formats in the input_sample and output_sample variables, which represent the request and response formats for the web service. Use these samples in the input and output function decorators on the run() function. The following scikit-learn example uses schema generation."
   ]
  },
  {
   "cell_type": "code",
   "execution_count": null,
   "metadata": {},
   "outputs": [],
   "source": [
    "%%writefile score.py\n",
    "import os\n",
    "import pickle\n",
    "import json\n",
    "import numpy as np\n",
    "import pandas as pd\n",
    "from sklearn.externals import joblib\n",
    "from sklearn.linear_model import Ridge\n",
    "\n",
    "from inference_schema.schema_decorators import input_schema, output_schema\n",
    "from inference_schema.parameter_types.standard_py_parameter_type import StandardPythonParameterType\n",
    "from inference_schema.parameter_types.numpy_parameter_type import NumpyParameterType\n",
    "from inference_schema.parameter_types.pandas_parameter_type import PandasParameterType\n",
    "\n",
    "\n",
    "\n",
    "def init():\n",
    "    global model\n",
    "    # AZUREML_MODEL_DIR is an environment variable created during deployment.\n",
    "    # It is the path to the model folder (./azureml-models/$MODEL_NAME/$VERSION)\n",
    "    # For multiple models, it points to the folder containing all deployed models (./azureml-models)\n",
    "    model_path = os.path.join(os.getenv('AZUREML_MODEL_DIR'), 'sklearn_regression_model.pkl')\n",
    "    # deserialize the model file back into a sklearn model\n",
    "    model = joblib.load(model_path)\n",
    "    \n",
    "# providing sample input for schema generation\n",
    "numpy_sample_input = NumpyParameterType(np.array([[1,2,3,4,5,6,7,8,9,10],[10,9,8,7,6,5,4,3,2,1]],dtype='float64'))\n",
    "pandas_sample_input = PandasParameterType(pd.DataFrame({'name': ['Sarah', 'John'], 'age': [25, 26]}))\n",
    "standard_sample_input = StandardPythonParameterType(0.0)\n",
    "\n",
    "# This is a nested input sample, any item wrapped by `ParameterType` will be described by schema\n",
    "sample_input = StandardPythonParameterType({'input1': numpy_sample_input, \n",
    "                                            'input2': pandas_sample_input, \n",
    "                                            'input3': standard_sample_input})\n",
    "sample_output = StandardPythonParameterType([1.0, 1.0])\n",
    "\n",
    "@input_schema('inputs', sample_input)\n",
    "@output_schema(sample_output)\n",
    "def run(inputs):\n",
    "    try:\n",
    "        data = inputs['input1']\n",
    "        # data will be convert to target format\n",
    "        assert isinstance(data, np.ndarray)\n",
    "        result = model.predict(data)\n",
    "        return result.tolist()\n",
    "    except Exception as e:\n",
    "        error = str(e)\n",
    "        return error"
   ]
  },
  {
   "cell_type": "markdown",
   "metadata": {},
   "source": [
    "# Provision the AKS Cluster\n",
    "This is a one time setup. You can reuse this cluster for multiple deployments after it has been created. If you delete the cluster or the resource group that contains it, then you would have to recreate it."
   ]
  },
  {
   "cell_type": "code",
   "execution_count": 10,
   "metadata": {},
   "outputs": [],
   "source": [
    "from azureml.core.model import InferenceConfig\n",
    "\n",
    "inf_config = InferenceConfig(entry_script='score.py', environment=myenv)"
   ]
  },
  {
   "cell_type": "code",
   "execution_count": 11,
   "metadata": {},
   "outputs": [],
   "source": [
    "# Use the default configuration (can also provide parameters to customize)\n",
    "prov_config = AksCompute.provisioning_configuration()\n",
    "\n",
    "aks_name = 'my-aks' \n",
    "\n",
    "try:\n",
    "    \n",
    "    aks_target = ComputeTarget(workspace = ws, name = aks_name)\n",
    "    print(\"found existing cluster\")\n",
    "except ComputeTargetException:\n",
    "    print(\"creating new cluster\")\n",
    "    aks_target = ComputeTarget.create(workspace = ws, \n",
    "                                  name = aks_name, \n",
    "                                  provisioning_configuration = prov_config)\n"
   ]
  },
  {
   "cell_type": "code",
   "execution_count": null,
   "metadata": {},
   "outputs": [],
   "source": [
    "%%time\n",
    "aks_target.wait_for_completion(show_output = True)\n",
    "print(aks_target.provisioning_state)\n",
    "print(aks_target.provisioning_errors)"
   ]
  },
  {
   "cell_type": "markdown",
   "metadata": {},
   "source": [
    "# Deploy web service to AKS"
   ]
  },
  {
   "cell_type": "code",
   "execution_count": 21,
   "metadata": {},
   "outputs": [],
   "source": [
    "# Set the web service configuration (using default here)\n",
    "aks_config = AksWebservice.deploy_configuration()"
   ]
  },
  {
   "cell_type": "code",
   "execution_count": null,
   "metadata": {},
   "outputs": [],
   "source": [
    "%%time\n",
    "aks_service_name ='aks-service1'\n",
    "import importlib\n",
    "importlib.reload(azureml.core.model)\n",
    "aks_service = Model.deploy(workspace=ws,\n",
    "                           name=aks_service_name,\n",
    "                           models=[model],\n",
    "                           inference_config=inf_config,\n",
    "                           deployment_config=aks_config,\n",
    "                           deployment_target=aks_target,\n",
    "                           overwrite=True)\n",
    "\n",
    "aks_service.wait_for_deployment(show_output = True)\n",
    "print(aks_service.state)"
   ]
  },
  {
   "cell_type": "markdown",
   "metadata": {},
   "source": [
    "# Test the web service using run method\n",
    "We test the web sevice by passing data. Run() method retrieves API keys behind the scenes to make sure that call is authenticated."
   ]
  },
  {
   "cell_type": "code",
   "execution_count": null,
   "metadata": {},
   "outputs": [],
   "source": [
    "%%time\n",
    "import json\n",
    "\n",
    "test_sample = json.dumps({'inputs': {'input1': [[1,2,3,4,5,6,7,8,9,10],[10,9,8,7,6,5,4,3,2,1]],\n",
    "                                    'input2': {'name': ['Sarah', 'John'], 'age': [25, 26]},\n",
    "                                    'input3': 1.0},\n",
    "                          'global_parameters': 1.0})\n",
    "test_sample = bytes(test_sample,encoding = 'utf8')\n",
    "\n",
    "prediction = aks_service.run(input_data = test_sample)\n",
    "print(prediction)"
   ]
  },
  {
   "cell_type": "markdown",
   "metadata": {},
   "source": [
    "# Check your swagger"
   ]
  },
  {
   "cell_type": "code",
   "execution_count": 24,
   "metadata": {},
   "outputs": [
    {
     "name": "stdout",
     "output_type": "stream",
     "text": [
      "{\n",
      "  \"swagger\": \"2.0\",\n",
      "  \"info\": {\n",
      "    \"title\": \"aks-service1\",\n",
      "    \"description\": \"API specification for the Azure Machine Learning service aks-service1\",\n",
      "    \"version\": \"1\"\n",
      "  },\n",
      "  \"schemes\": [\n",
      "    \"https\"\n",
      "  ],\n",
      "  \"consumes\": [\n",
      "    \"application/json\"\n",
      "  ],\n",
      "  \"produces\": [\n",
      "    \"application/json\"\n",
      "  ],\n",
      "  \"securityDefinitions\": {\n",
      "    \"Bearer\": {\n",
      "      \"type\": \"apiKey\",\n",
      "      \"name\": \"Authorization\",\n",
      "      \"in\": \"header\",\n",
      "      \"description\": \"For example: Bearer abc123\"\n",
      "    }\n",
      "  },\n",
      "  \"paths\": {\n",
      "    \"/api/v1/service/aks-service1/\": {\n",
      "      \"get\": {\n",
      "        \"operationId\": \"ServiceHealthCheck\",\n",
      "        \"description\": \"Simple health check endpoint to ensure the service is up at any given point.\",\n",
      "        \"responses\": {\n",
      "          \"200\": {\n",
      "            \"description\": \"If service is up and running, this response will be returned with the content 'Healthy'\",\n",
      "            \"schema\": {\n",
      "              \"type\": \"string\"\n",
      "            },\n",
      "            \"examples\": {\n",
      "              \"application/json\": \"Healthy\"\n",
      "            }\n",
      "          },\n",
      "          \"default\": {\n",
      "            \"description\": \"The service failed to execute due to an error.\",\n",
      "            \"schema\": {\n",
      "              \"$ref\": \"#/definitions/ErrorResponse\"\n",
      "            }\n",
      "          }\n",
      "        }\n",
      "      }\n",
      "    },\n",
      "    \"/api/v1/service/aks-service1/score\": {\n",
      "      \"post\": {\n",
      "        \"operationId\": \"RunMLService\",\n",
      "        \"description\": \"Run web service's model and get the prediction output\",\n",
      "        \"security\": [\n",
      "          {\n",
      "            \"Bearer\": []\n",
      "          }\n",
      "        ],\n",
      "        \"parameters\": [\n",
      "          {\n",
      "            \"name\": \"serviceInputPayload\",\n",
      "            \"in\": \"body\",\n",
      "            \"description\": \"The input payload for executing the real-time machine learning service.\",\n",
      "            \"schema\": {\n",
      "              \"$ref\": \"#/definitions/ServiceInput\"\n",
      "            }\n",
      "          }\n",
      "        ],\n",
      "        \"responses\": {\n",
      "          \"200\": {\n",
      "            \"description\": \"The service processed the input correctly and provided a result prediction, if applicable.\",\n",
      "            \"schema\": {\n",
      "              \"$ref\": \"#/definitions/ServiceOutput\"\n",
      "            }\n",
      "          },\n",
      "          \"default\": {\n",
      "            \"description\": \"The service failed to execute due to an error.\",\n",
      "            \"schema\": {\n",
      "              \"$ref\": \"#/definitions/ErrorResponse\"\n",
      "            }\n",
      "          }\n",
      "        }\n",
      "      }\n",
      "    }\n",
      "  },\n",
      "  \"definitions\": {\n",
      "    \"ServiceInput\": {\n",
      "      \"type\": \"object\",\n",
      "      \"properties\": {\n",
      "        \"inputs\": {\n",
      "          \"type\": \"object\",\n",
      "          \"required\": [\n",
      "            \"input1\",\n",
      "            \"input2\",\n",
      "            \"input3\"\n",
      "          ],\n",
      "          \"properties\": {\n",
      "            \"input1\": {\n",
      "              \"type\": \"array\",\n",
      "              \"items\": {\n",
      "                \"type\": \"array\",\n",
      "                \"items\": {\n",
      "                  \"type\": \"number\",\n",
      "                  \"format\": \"double\"\n",
      "                }\n",
      "              },\n",
      "              \"example\": [\n",
      "                [\n",
      "                  1.0,\n",
      "                  2.0,\n",
      "                  3.0,\n",
      "                  4.0,\n",
      "                  5.0,\n",
      "                  6.0,\n",
      "                  7.0,\n",
      "                  8.0,\n",
      "                  9.0,\n",
      "                  10.0\n",
      "                ],\n",
      "                [\n",
      "                  10.0,\n",
      "                  9.0,\n",
      "                  8.0,\n",
      "                  7.0,\n",
      "                  6.0,\n",
      "                  5.0,\n",
      "                  4.0,\n",
      "                  3.0,\n",
      "                  2.0,\n",
      "                  1.0\n",
      "                ]\n",
      "              ]\n",
      "            },\n",
      "            \"input2\": {\n",
      "              \"type\": \"array\",\n",
      "              \"items\": {\n",
      "                \"type\": \"object\",\n",
      "                \"properties\": {\n",
      "                  \"name\": {\n",
      "                    \"type\": \"string\"\n",
      "                  },\n",
      "                  \"age\": {\n",
      "                    \"type\": \"integer\",\n",
      "                    \"format\": \"int64\"\n",
      "                  }\n",
      "                }\n",
      "              },\n",
      "              \"example\": [\n",
      "                {\n",
      "                  \"name\": \"Sarah\",\n",
      "                  \"age\": 25\n",
      "                },\n",
      "                {\n",
      "                  \"name\": \"John\",\n",
      "                  \"age\": 26\n",
      "                }\n",
      "              ]\n",
      "            },\n",
      "            \"input3\": {\n",
      "              \"type\": \"number\",\n",
      "              \"format\": \"double\",\n",
      "              \"example\": 0.0\n",
      "            }\n",
      "          }\n",
      "        },\n",
      "        \"global_parameters\": {}\n",
      "      },\n",
      "      \"example\": {\n",
      "        \"inputs\": {\n",
      "          \"input1\": [\n",
      "            [\n",
      "              1.0,\n",
      "              2.0,\n",
      "              3.0,\n",
      "              4.0,\n",
      "              5.0,\n",
      "              6.0,\n",
      "              7.0,\n",
      "              8.0,\n",
      "              9.0,\n",
      "              10.0\n",
      "            ],\n",
      "            [\n",
      "              10.0,\n",
      "              9.0,\n",
      "              8.0,\n",
      "              7.0,\n",
      "              6.0,\n",
      "              5.0,\n",
      "              4.0,\n",
      "              3.0,\n",
      "              2.0,\n",
      "              1.0\n",
      "            ]\n",
      "          ],\n",
      "          \"input2\": [\n",
      "            {\n",
      "              \"name\": \"Sarah\",\n",
      "              \"age\": 25\n",
      "            },\n",
      "            {\n",
      "              \"name\": \"John\",\n",
      "              \"age\": 26\n",
      "            }\n",
      "          ],\n",
      "          \"input3\": 0.0\n",
      "        },\n",
      "        \"global_parameters\": \"\"\n",
      "      }\n",
      "    },\n",
      "    \"ServiceOutput\": {\n",
      "      \"type\": \"array\",\n",
      "      \"items\": {\n",
      "        \"type\": \"object\"\n",
      "      },\n",
      "      \"example\": [\n",
      "        1.0,\n",
      "        1.0\n",
      "      ]\n",
      "    },\n",
      "    \"ErrorResponse\": {\n",
      "      \"type\": \"object\",\n",
      "      \"properties\": {\n",
      "        \"status_code\": {\n",
      "          \"type\": \"integer\",\n",
      "          \"format\": \"int32\"\n",
      "        },\n",
      "        \"message\": {\n",
      "          \"type\": \"string\"\n",
      "        }\n",
      "      }\n",
      "    }\n",
      "  }\n",
      "}\n"
     ]
    }
   ],
   "source": [
    "import requests, json\n",
    "content = requests.get(aks_service.swagger_uri)\n",
    "swagger = json.loads(content.content)\n",
    "\n",
    "print(json.dumps(swagger, indent=2))"
   ]
  },
  {
   "cell_type": "markdown",
   "metadata": {},
   "source": [
    "# Clean up\n",
    "Delete the service, image and model."
   ]
  },
  {
   "cell_type": "code",
   "execution_count": null,
   "metadata": {},
   "outputs": [],
   "source": [
    "aks_service.delete()\n",
    "model.delete()"
   ]
  },
  {
   "cell_type": "code",
   "execution_count": null,
   "metadata": {},
   "outputs": [],
   "source": []
  }
 ],
 "metadata": {
  "kernelspec": {
   "display_name": "Python (azuremlsdk113)",
   "language": "python",
   "name": "azuremlsdk113"
  },
  "language_info": {
   "codemirror_mode": {
    "name": "ipython",
    "version": 3
   },
   "file_extension": ".py",
   "mimetype": "text/x-python",
   "name": "python",
   "nbconvert_exporter": "python",
   "pygments_lexer": "ipython3",
   "version": "3.7.7"
  }
 },
 "nbformat": 4,
 "nbformat_minor": 4
}
