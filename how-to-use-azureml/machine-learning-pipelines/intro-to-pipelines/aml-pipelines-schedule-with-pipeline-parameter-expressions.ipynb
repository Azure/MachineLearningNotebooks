{
 "cells": [
  {
   "cell_type": "markdown",
   "metadata": {},
   "source": [
    "# How to Setup a Schedule with Pipeline Parameter Expressions\n",
    "In this notebook, you will learn about pipeline parameter expressions, and how to set up a pipeline schedule with them."
   ]
  },
  {
   "cell_type": "markdown",
   "metadata": {},
   "source": [
    "## Introduction of pipeline parameter expression"
   ]
  },
  {
   "cell_type": "markdown",
   "metadata": {},
   "source": [
    "Pipeline parameter allows user dynamically running pipeline experiments with different inputs and parameters without any code change. Compared to manual modification of parameter values each run, pipeline parameter expression can work as a more advanced mode by getting their values in runtime, which can relieve pain points in both regular run scheduling and pipeline iterative development. \n",
    "\n",
    "You could use invocation identifier `@` at the beginning of expression, and the expression value will be resolved in runtime.\n",
    "For pipeline parameter expression containing nested functions like `@formatDateTime(subtractFromTime(utcNow(),1,'Day'),'yyyy-MM-dd')`, use only one `@` at the beginning of the expression, there is no need to add identifier to each of the functions."
   ]
  },
  {
   "cell_type": "markdown",
   "metadata": {},
   "source": [
    "See below table for supported expressions in schedule. The functions are case sensitive. Suffix `?` means optional parameter, otherwise required.\n",
    "\n",
    "| Function    | Description |\n",
    "| :---------- | :---------- |\n",
    "| `trigger().scheduledTime` | Return time at which the trigger was scheduled to invoke the pipeline run. Consistent with the time you specific in `ScheduleRecurrence` instance. **This expression is only specific in schedule scenario.**\n",
    "| `trigger().startTime` | Return time at which the trigger actually fired to invoke the pipeline run. This may be slightly later than the trigger's scheduled time. **This expression is only specific in schedule scenario.**\n",
    "| `createdBy()` | Return a user's full name or a service principal's app ID as a string.\n",
    "| `runId()` | Return run ID as a string of the top-level pipeline run. For nested subgraph runs, this is the run ID of the top-level pipeline run.  For non-nested runs, this is equal to pipeline run ID.\n",
    "| `addDays('<timestamp>', <days>, '<format>'?)`    | Add a number of days to a timestamp.\n",
    "| `addHours('<timestamp>', <hours>, '<format>'?)`  | Add a number of hours to a timestamp.\n",
    "| `addMinutes('<timestamp>', <minutes>, '<format>'?)`  | Add a number of minutes to a timestamp.\n",
    "| `addSeconds('<timestamp>', <seconds>, '<format>'?)`  | Add a number of seconds to a timestamp.\n",
    "| `addToTime('<timestamp>', <interval>, '<timeUnit>', '<format>'?)`   | Add a number of time units to a timestamp.\n",
    "| `convertFromUtc('<timestamp>', '<destinationTimeZone>', '<format>'?)`  | Convert a timestamp from Universal Time Coordinated (UTC) to the target time zone.\n",
    "| `convertTimeZone('<timestamp>', '<sourceTimeZone>', '<destinationTimeZone>', '<format>'?)` | Convert a timestamp from the source time zone to the target time zone.\n",
    "| `convertToUtc('<timestamp>', '<sourceTimeZone>', '<format>'?)` | Convert a timestamp from the source time zone to Universal Time Coordinated (UTC).\n",
    "| `dayOfMonth('<timestamp>')`   | Return the day of the month component from a timestamp.\n",
    "| `dayOfWeek('<timestamp>')`    | Return the day of the week from the specified timestamp where Sunday is 0, Monday is 1, and so on.\n",
    "| `dayOfYear('<timestamp>')`    | Return the day of the year component from a timestamp.\n",
    "| `formatDateTime('<timestamp>', '<format>'?)` | Return a timestamp in the specified format.\n",
    "| `startOfDay('<timestamp>', '<format>'?)`     | Return the start of the day for a timestamp. The specified timestamp but starting at the zero-hour mark for the day.\n",
    "| `startOfHour('<timestamp>', '<format>'?)`   | Return the start of the hour for a timestamp. The specified timestamp but starting at the zero-minute mark for the hour.\n",
    "| `startOfMonth('<timestamp>', '<format>'?)`  | Return the start of the month for a timestamp. The specified timestamp but starting on the first day of the month at the zero-hour mark.\n",
    "| `subtractFromTime('<timestamp>', <interval>, '<timeUnit>', '<format>'?)` | Subtract a number of time units from a timestamp.\n",
    "| `utcNow('<format>'?)` | Return the current timestamp as a string."
   ]
  },
  {
   "cell_type": "markdown",
   "metadata": {},
   "source": [
    "See below table for parameter type description.\n",
    "\n",
    "| Parameter | Type | Description |\n",
    "| :----------- | :----------- | :----------- |\n",
    "|`<timestamp>` | String | The string that contains the timestamp. |\n",
    "|`<interval>` | Integer | The number of specified time units to add |\n",
    "|`<timeUnit>`| String | The unit of time to use with interval: \"Second\", \"Minute\", \"Hour\", \"Day\", \"Week\", \"Month\", \"Year\". |\n",
    "|`<days>`| Integer | The positive or negative number of days to add. |\n",
    "|`<hours>`| Integer | The positive or negative number of hours to add. |\n",
    "|`<minutes>`| Integer | The positive or negative number of minutes to add. |\n",
    "|`<seconds>`| Integer | The positive or negative number of seconds to add.|\n",
    "|`<destinationTimeZone>`| String |The name for the target time zone. For time zone names, please review: [Microsoft Windows Default Time Zones](https://docs.microsoft.com/en-us/windows-hardware/manufacture/desktop/default-time-zones?view=windows-11). |\n",
    "|`<sourceTimeZone>`|String |The name for the source time zone. For time zone names, see [Microsoft Windows Default Time Zones](https://docs.microsoft.com/en-us/windows-hardware/manufacture/desktop/default-time-zones?view=windows-11), but you might have to remove any punctuation from the time zone name. |\n",
    "|`<format>`| String | Either a [single format specifier](https://docs.microsoft.com/en-us/dotnet/standard/base-types/standard-date-and-time-format-strings) or a [custom format pattern](https://docs.microsoft.com/en-us/dotnet/standard/base-types/custom-date-and-time-format-strings). The default format for the timestamp is [\"o\"](https://docs.microsoft.com/en-us/dotnet/standard/base-types/standard-date-and-time-format-strings) (yyyy-MM-ddTHH:mm:ss.fffffffK), which complies with [ISO 8601](https://en.wikipedia.org/wiki/ISO_8601) and preserves time zone information. |"
   ]
  },
  {
   "cell_type": "markdown",
   "metadata": {},
   "source": [
    "## Set up a schedule with pipeline parameter expressions"
   ]
  },
  {
   "cell_type": "markdown",
   "metadata": {},
   "source": [
    "### Prerequisites\n",
    "> Note: Please get below 3 items prepared before running the code blocks.\n",
    "\n",
    "- Prepare a workspace\n",
    "    A [workspace](https://docs.microsoft.com/en-us/python/api/azureml-core/azureml.core.workspace.workspace?view=azure-ml-py) this schedule will belong to.  \n",
    "  \n",
    "- Prepare a published pipeline.\n",
    "    A published pipeline which will be scheduled. See [how to publish pipeline](https://docs.microsoft.com/en-us/azure/machine-learning/how-to-deploy-pipelines#publish-a-pipeline).  \n",
    "      \n",
    "- Prepare a published pipeline endpoint\n",
    "    A published pipeline endpoint which will be scheduled. See [how to publish a pipeline to pipeline endpoint](https://docs.microsoft.com/en-us/python/api/azureml-pipeline-core/azureml.pipeline.core.pipeline_endpoint.pipelineendpoint?view=azure-ml-py#remarks).  \n",
    "      \n",
    "    "
   ]
  },
  {
   "cell_type": "code",
   "execution_count": null,
   "metadata": {},
   "outputs": [],
   "source": [
    "from azureml.core import Workspace\n",
    "from azureml.pipeline.core.schedule import ScheduleRecurrence, Schedule\n",
    "from azureml.pipeline.core import PublishedPipeline, PipelineEndpoint\n",
    "\n",
    "# Get workspace, it need to have at least one published pipeline. \n",
    "config_path = \"config.json\"\n",
    "ws = Workspace.from_config(path=config_path)\n",
    "\n",
    "# Get published pipeline id.\n",
    "all_pub_pipelines = PublishedPipeline.list(ws)\n",
    "print(\"Published pipelines found in the workspace: \")\n",
    "for pub_pipeline in all_pub_pipelines:\n",
    "    print(pub_pipeline.id)\n",
    "pub_pipeline_id = all_pub_pipelines[0].id\n",
    "print(\"Published pipeline id to be used for schedule operations: {}\".format(pub_pipeline_id))\n",
    "\n",
    "# Get published pipeline endpoint id.\n",
    "pipeline_endpoint_name = \"PipelineEndpointName\" # The published pipeline endpoint's name. \n",
    "pipeline_endpoint = PipelineEndpoint.get(workspace=ws, name=pipeline_endpoint_name)\n",
    "pipeline_endpoint_id = pipeline_endpoint.id\n",
    "print(\"Published pipeline endpoint id to be used for schedule operations: {}\".format(pipeline_endpoint_id))"
   ]
  },
  {
   "cell_type": "markdown",
   "metadata": {},
   "source": [
    "### Schedule a published pipeline with pipeline parameter expressions"
   ]
  },
  {
   "cell_type": "code",
   "execution_count": null,
   "metadata": {},
   "outputs": [],
   "source": [
    "from azureml.pipeline.core.schedule import ScheduleRecurrence, Schedule\n",
    "from azureml.pipeline.core import PublishedPipeline\n",
    "\n",
    "# define pipeline parameters\n",
    "pipeline_parameters = {\n",
    "    \"scheduled_time\": \"@trigger().scheduledTime\",\n",
    "    \"start_time\": \"@trigger().startTime\",\n",
    "    \"utc_now\": \"@utcNow()\",\n",
    "    \"yesterday\": \"@formatDateTime(subtractFromTime(utcNow(),1,'Day'),'yyyy-MM-dd')\"\n",
    "}"
   ]
  },
  {
   "cell_type": "markdown",
   "metadata": {},
   "source": [
    "#### Create a schedule with pipeline parameter expressions for published pipeline"
   ]
  },
  {
   "cell_type": "code",
   "execution_count": null,
   "metadata": {},
   "outputs": [],
   "source": [
    "recurrence = ScheduleRecurrence(frequency=\"Minute\", interval=15)\n",
    "pipeline_schedule = Schedule.create(\n",
    "    ws, \n",
    "    name=\"ScheduleWithExpression\",\n",
    "    description=\"Based on time, with pipeline param expressions\",\n",
    "    pipeline_id=pub_pipeline_id,\n",
    "    pipeline_parameters=pipeline_parameters,\n",
    "    experiment_name=\"sample-schedule-with-expression\",\n",
    "    recurrence=recurrence)\n",
    "\n",
    "# you could search for the schedule triggered pipeline run based on experiment name and description.\n",
    "pipeline_schedule"
   ]
  },
  {
   "cell_type": "markdown",
   "metadata": {},
   "source": [
    "#### Update a schedule with pipeline parameter expressions for published pipeline"
   ]
  },
  {
   "cell_type": "code",
   "execution_count": null,
   "metadata": {},
   "outputs": [],
   "source": [
    "update_pipeline_parameters = {\n",
    "    \"start_time\": \"@addMinutes(trigger().scheduledTime, 10)\",\n",
    "    \"user\": \"@createdBy()\",\n",
    "    \"run_id\": \"@runId()\"\n",
    "}\n",
    "\n",
    "pipeline_schedule.update(\n",
    "    name=\"UpdatedScheduleWithExpression\",\n",
    "    description=\"Based on time, update pipeline with parameter expressions\",\n",
    "    pipeline_parameters=update_pipeline_parameters)\n",
    "\n",
    "# you could search for the schedule triggered pipeline run based on experiment name and description.\n",
    "pipeline_schedule"
   ]
  },
  {
   "cell_type": "markdown",
   "metadata": {},
   "source": [
    "#### Disable the schedule "
   ]
  },
  {
   "cell_type": "code",
   "execution_count": null,
   "metadata": {},
   "outputs": [],
   "source": [
    "pipeline_schedule.disable()"
   ]
  },
  {
   "cell_type": "markdown",
   "metadata": {},
   "source": [
    "### Schedule a published pipeline endpoint with pipeline parameter expressions"
   ]
  },
  {
   "cell_type": "code",
   "execution_count": null,
   "metadata": {},
   "outputs": [],
   "source": [
    "# define pipeline parameters\n",
    "pipeline_parameters = {\n",
    "    \"dayOfMonth\": \"@dayOfMonth('2022-01-01 08:00:00')\",\n",
    "    \"dayOfWeek\": \"@dayOfWeek('2022-01-01 08:00:00')\",\n",
    "}"
   ]
  },
  {
   "cell_type": "markdown",
   "metadata": {},
   "source": [
    "#### Create a schedule with pipeline parameter expressions for published pipeline endpoint"
   ]
  },
  {
   "cell_type": "code",
   "execution_count": null,
   "metadata": {},
   "outputs": [],
   "source": [
    "pipeline_endpoint_schedule = Schedule.create_for_pipeline_endpoint(\n",
    "    ws,\n",
    "    name=\"EndpointScheduleWithExpression01\",\n",
    "    pipeline_endpoint_id=pipeline_endpoint_id,\n",
    "    experiment_name=\"sample-endpoint-schedule-with-expression\",\n",
    "    description=\"Create for pipeline endpoint with pipeline parameter expressions\",\n",
    "    pipeline_parameters=pipeline_parameters,\n",
    "    recurrence=recurrence)\n",
    "\n",
    "# you could search for the schedule triggered pipeline run based on experiment name and description.\n",
    "pipeline_endpoint_schedule"
   ]
  },
  {
   "cell_type": "markdown",
   "metadata": {},
   "source": [
    "#### Update a schedule with pipeline parameter expressions for published pipeline endpoint  \n",
    "> Note: If you want to update pipeline parameter expression of published pipeline endpoint, you need to update the previous schedule in below way, as simply republishing the pipeline will not work."
   ]
  },
  {
   "cell_type": "code",
   "execution_count": null,
   "metadata": {},
   "outputs": [],
   "source": [
    "updated_recurrence = ScheduleRecurrence(frequency=\"Minute\", interval=5)\n",
    "updated_pipeline_parameters = {\n",
    "    \"dayOfMonth\": \"@dayOfMonth(utcNow())\",\n",
    "    \"dayOfWeek\": \"@dayOfWeek(utcNow())\",\n",
    "}\n",
    "\n",
    "pipeline_endpoint_schedule.update(\n",
    "    name=\"UpdateEndpointScheduleWithExpression\",\n",
    "    description=\"Based on time, update pipeline endpoint with parameter expressions\",\n",
    "    pipeline_parameters=updated_pipeline_parameters,\n",
    "    recurrence=updated_recurrence)\n",
    "\n",
    "# you could search for the schedule triggered pipeline run based on experiment name and description.\n",
    "pipeline_endpoint_schedule"
   ]
  },
  {
   "cell_type": "markdown",
   "metadata": {},
   "source": [
    "#### Disable the schedule "
   ]
  },
  {
   "cell_type": "code",
   "execution_count": null,
   "metadata": {},
   "outputs": [],
   "source": [
    "pipeline_endpoint_schedule.disable()"
   ]
  },
  {
   "cell_type": "markdown",
   "metadata": {},
   "source": [
    "## Questions and Answers"
   ]
  },
  {
   "cell_type": "markdown",
   "metadata": {},
   "source": [
    "Q1: Why are my input pipeline parameter expressions not resolved?\n",
    "\n",
    "A1: Pipeline parameter expressions are case sensitive. Please check if you're using supported built-in functions in input expression, otherwise used as raw string.\n",
    "\n",
    "\n",
    "Q2: What should I do when I meet error \"Invalid pipeline parameter expression\"?\n",
    "\n",
    "A2: If you want to use resolved value of the expression, please check if all the functions in the expression have been set with correct type parameters.\n",
    "\n",
    "\n",
    "Q3: Why do new triggered runs still use previous pipeline parameter expressions although I have republished with new expressions?\n",
    "\n",
    "A3: If you want to update pipeline parameter expressions, please update schedule with new ones. Republishing pipeline only works for updating pipeline parameter with fixed value.\n"
   ]
  },
  {
   "cell_type": "markdown",
   "metadata": {},
   "source": []
  }
 ],
 "metadata": {
  "interpreter": {
   "hash": "b3ba2566441a7c06988d0923437866b63cedc61552a5af99d1f4fb67d367b25f"
  },
  "kernelspec": {
   "display_name": "Python 3.8.5 64-bit ('base': conda)",
   "language": "python",
   "name": "python3"
  },
  "language_info": {
   "codemirror_mode": {
    "name": "ipython",
    "version": 3
   },
   "file_extension": ".py",
   "mimetype": "text/x-python",
   "name": "python",
   "nbconvert_exporter": "python",
   "pygments_lexer": "ipython3",
   "version": "3.8.12"
  },
  "orig_nbformat": 4
 },
 "nbformat": 4,
 "nbformat_minor": 2
}
