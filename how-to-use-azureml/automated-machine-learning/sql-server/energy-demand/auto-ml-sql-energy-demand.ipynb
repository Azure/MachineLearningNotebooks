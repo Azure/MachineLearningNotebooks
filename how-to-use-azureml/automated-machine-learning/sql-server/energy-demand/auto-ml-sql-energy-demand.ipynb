{
    "metadata": {
        "kernelspec": {
            "name": "SQL",
            "display_name": "SQL",
            "language": "sql"
        },
        "language_info": {
            "name": "sql",
            "version": ""
        }
    },
    "nbformat_minor": 2,
    "nbformat": 4,
    "cells": [
        {
            "cell_type": "markdown",
            "source": "# Train a model and use it for prediction\r\n\r\nBefore running this notebook, run the auto-ml-sql-setup.ipynb notebook.",
            "metadata": {}
        },
        {
            "cell_type": "code",
            "source": "USE [automl]\r\nGO",
            "metadata": {},
            "outputs": [],
            "execution_count": 2
        },
        {
            "cell_type": "code",
            "source": "-- This shows using the AutoMLTrain stored procedure to create a forecasting model for the nyc_energy dataset.\r\n\r\nINSERT INTO dbo.aml_model(RunId, ExperimentName, Model, LogFileText, WorkspaceName)\r\nEXEC dbo.AutoMLTrain @input_query='\r\nSELECT CAST(timeStamp as NVARCHAR(30)) as timeStamp,\r\n       demand,\r\n\t   precip,\r\n\t   temp,\r\n\t   CASE WHEN timeStamp < ''2017-01-01'' THEN 0 ELSE 1 END AS is_validate_column\r\nFROM nyc_energy\r\nWHERE demand IS NOT NULL AND precip IS NOT NULL AND temp IS NOT NULL\r\nand timeStamp < ''2017-02-01''',\r\n@label_column='demand',\r\n@task='forecasting',\r\n@iterations=10,\r\n@iteration_timeout_minutes=5,\r\n@time_column_name='timeStamp',\r\n@is_validate_column='is_validate_column',\r\n@experiment_name='automl-sql-forecast',\r\n@primary_metric='normalized_root_mean_squared_error'",
            "metadata": {},
            "outputs": [],
            "execution_count": 2
        },
        {
            "cell_type": "code",
            "source": "-- This shows using the AutoMLPredict stored procedure to predict using a forecasting model for the nyc_energy dataset.\r\n\r\nDECLARE @Model NVARCHAR(MAX) = (SELECT TOP 1 Model FROM dbo.aml_model\r\n                                WHERE ExperimentName = 'automl-sql-forecast'\r\n\t\t\t\t\t\t\t\tORDER BY CreatedDate DESC)\r\n\r\nEXEC dbo.AutoMLPredict @input_query='\r\nSELECT CAST(timeStamp AS NVARCHAR(30)) AS timeStamp,\r\n       demand,\r\n\t   precip,\r\n\t   temp\r\nFROM nyc_energy\r\nWHERE demand IS NOT NULL AND precip IS NOT NULL AND temp IS NOT NULL\r\nAND timeStamp >= ''2017-02-01''',\r\n@label_column='demand',\r\n@model=@model\r\nWITH RESULT SETS ((timeStamp NVARCHAR(30), actual_demand FLOAT, precip FLOAT, temp FLOAT, predicted_demand FLOAT))",
            "metadata": {},
            "outputs": [],
            "execution_count": 3
        },
        {
            "cell_type": "code",
            "source": "-- This lists all the metrics for all iterations for the most recent training run.\r\n\r\nDECLARE @RunId NVARCHAR(43)\r\nDECLARE @ExperimentName NVARCHAR(255)\r\n\r\nSELECT TOP 1 @ExperimentName=ExperimentName, @RunId=SUBSTRING(RunId, 1, 43)\r\nFROM aml_model\r\nORDER BY CreatedDate DESC\r\n\r\nEXEC dbo.AutoMLGetMetrics @RunId, @ExperimentName",
            "metadata": {},
            "outputs": [],
            "execution_count": 4
        }
    ]
}