{
 "cells": [
  {
   "cell_type": "code",
   "execution_count": 1,
   "metadata": {
    "collapsed": true
   },
   "outputs": [],
   "source": [
    "%matplotlib inline\n",
    "from pycocotools.coco import COCO\n",
    "import numpy as np\n",
    "import skimage.io as io\n",
    "import matplotlib.pyplot as plt\n",
    "import pylab\n",
    "pylab.rcParams['figure.figsize'] = (8.0, 10.0)"
   ]
  },
  {
   "cell_type": "code",
   "execution_count": 2,
   "metadata": {},
   "outputs": [],
   "source": [
    "# load and visualise the tooth edge annotations\n",
    "# Setup environments\n",
    "import json"
   ]
  },
  {
   "cell_type": "code",
   "execution_count": 3,
   "metadata": {
    "tags": [
     "outputPrepend"
    ]
   },
   "outputs": [
    {
     "output_type": "stream",
     "name": "stdout",
     "text": [
      ".42, 'Y': 1156.56}, {'IsEmpty': False, 'X': 1204.07, 'Y': 1151.38}, {'IsEmpty': False, 'X': 1206.62, 'Y': 1146.14}, {'IsEmpty': False, 'X': 1209.15, 'Y': 1140.88}, {'IsEmpty': False, 'X': 1211.74, 'Y': 1135.65}, {'IsEmpty': False, 'X': 1214.45, 'Y': 1130.48}, {'IsEmpty': False, 'X': 1217.28, 'Y': 1125.39}, {'IsEmpty': False, 'X': 1220.17, 'Y': 1120.37}, {'IsEmpty': False, 'X': 1223.08, 'Y': 1115.34}, {'IsEmpty': False, 'X': 1225.93, 'Y': 1110.28}, {'IsEmpty': False, 'X': 1228.63, 'Y': 1105.14}, {'IsEmpty': False, 'X': 1231.07, 'Y': 1099.88}, {'IsEmpty': False, 'X': 1233.14, 'Y': 1094.49}, {'IsEmpty': False, 'X': 1234.9, 'Y': 1089.02}, {'IsEmpty': False, 'X': 1236.41, 'Y': 1083.47}, {'IsEmpty': False, 'X': 1237.78, 'Y': 1077.86}, {'IsEmpty': False, 'X': 1239.06, 'Y': 1072.21}, {'IsEmpty': False, 'X': 1240.31, 'Y': 1066.52}, {'IsEmpty': False, 'X': 1241.53, 'Y': 1060.76}, {'IsEmpty': False, 'X': 1242.75, 'Y': 1054.93}, {'IsEmpty': False, 'X': 1244.19, 'Y': 1049.02}, {'IsEmpty': False, 'X': 1246.09, 'Y': 1039.91}, {'IsEmpty': False, 'X': 1248.11, 'Y': 1030.53}, {'IsEmpty': False, 'X': 1249.96, 'Y': 1020.9}, {'IsEmpty': False, 'X': 1251.32, 'Y': 1011.18}, {'IsEmpty': False, 'X': 1252.02, 'Y': 1001.48}, {'IsEmpty': False, 'X': 1252.01, 'Y': 991.862}, {'IsEmpty': False, 'X': 1251.12, 'Y': 982.427}, {'IsEmpty': False, 'X': 1249.03, 'Y': 973.476}, {'IsEmpty': False, 'X': 1245.15, 'Y': 965.622}, {'IsEmpty': False, 'X': 1239.11, 'Y': 960.238}, {'IsEmpty': False, 'X': 1231.86, 'Y': 957.024}, {'IsEmpty': False, 'X': 1223.73, 'Y': 955.558}, {'IsEmpty': False, 'X': 1215.17, 'Y': 955.822}, {'IsEmpty': False, 'X': 1206.76, 'Y': 956.953}, {'IsEmpty': False, 'X': 1198.49, 'Y': 958.389}], 'Ignored': False}, 'Quadrant': 4, 'ToothNumber': 6, 'SeverityIndex': 0, 'Centre': {'IsEmpty': False, 'X': 988.9685, 'Y': 1086.53394}, 'Width': 526.103}, {'Name': 'L_5', 'ToothType': 3, 'LeftEdge': {'EdgePoints': [{'IsEmpty': False, 'X': 1226.94, 'Y': 1267.24}, {'IsEmpty': False, 'X': 1227.88, 'Y': 1262.22}, {'IsEmpty': False, 'X': 1228.77, 'Y': 1257.19}, {'IsEmpty': False, 'X': 1229.53, 'Y': 1252.12}, {'IsEmpty': False, 'X': 1230.13, 'Y': 1247.03}, {'IsEmpty': False, 'X': 1230.57, 'Y': 1241.94}, {'IsEmpty': False, 'X': 1230.9, 'Y': 1236.84}, {'IsEmpty': False, 'X': 1231.14, 'Y': 1231.73}, {'IsEmpty': False, 'X': 1231.32, 'Y': 1226.63}, {'IsEmpty': False, 'X': 1231.51, 'Y': 1221.52}, {'IsEmpty': False, 'X': 1231.73, 'Y': 1216.4}, {'IsEmpty': False, 'X': 1231.98, 'Y': 1211.29}, {'IsEmpty': False, 'X': 1232.29, 'Y': 1206.18}, {'IsEmpty': False, 'X': 1232.65, 'Y': 1201.07}, {'IsEmpty': False, 'X': 1232.98, 'Y': 1195.95}, {'IsEmpty': False, 'X': 1233.2, 'Y': 1190.83}, {'IsEmpty': False, 'X': 1233.25, 'Y': 1185.7}, {'IsEmpty': False, 'X': 1233.21, 'Y': 1180.57}, {'IsEmpty': False, 'X': 1233.19, 'Y': 1175.43}, {'IsEmpty': False, 'X': 1233.27, 'Y': 1170.27}, {'IsEmpty': False, 'X': 1233.43, 'Y': 1165.1}, {'IsEmpty': False, 'X': 1233.63, 'Y': 1159.93}, {'IsEmpty': False, 'X': 1233.81, 'Y': 1154.76}, {'IsEmpty': False, 'X': 1233.95, 'Y': 1149.61}, {'IsEmpty': False, 'X': 1233.99, 'Y': 1144.46}, {'IsEmpty': False, 'X': 1233.92, 'Y': 1139.32}, {'IsEmpty': False, 'X': 1233.82, 'Y': 1134.18}, {'IsEmpty': False, 'X': 1233.82, 'Y': 1129.05}, {'IsEmpty': False, 'X': 1233.98, 'Y': 1123.93}, {'IsEmpty': False, 'X': 1234.25, 'Y': 1118.82}, {'IsEmpty': False, 'X': 1234.54, 'Y': 1113.68}, {'IsEmpty': False, 'X': 1234.82, 'Y': 1108.54}, {'IsEmpty': False, 'X': 1235.14, 'Y': 1103.41}, {'IsEmpty': False, 'X': 1235.64, 'Y': 1098.29}, {'IsEmpty': False, 'X': 1236.42, 'Y': 1093.2}, {'IsEmpty': False, 'X': 1237.48, 'Y': 1088.15}, {'IsEmpty': False, 'X': 1238.79, 'Y': 1083.15}, {'IsEmpty': False, 'X': 1240.3, 'Y': 1078.21}, {'IsEmpty': False, 'X': 1241.97, 'Y': 1073.32}, {'IsEmpty': False, 'X': 1243.74, 'Y': 1068.48}, {'IsEmpty': False, 'X': 1245.56, 'Y': 1063.68}, {'IsEmpty': False, 'X': 1247.47, 'Y': 1058.92}, {'IsEmpty': False, 'X': 1249.46, 'Y': 1054.17}, {'IsEmpty': False, 'X': 1252.09, 'Y': 1047.97}, {'IsEmpty': False, 'X': 1254.87, 'Y': 1041.84}, {'IsEmpty': False, 'X': 1257.82, 'Y': 1035.75}, {'IsEmpty': False, 'X': 1261.06, 'Y': 1029.39}, {'IsEmpty': False, 'X': 1264.83, 'Y': 1022.93}, {'IsEmpty': False, 'X': 1269.22, 'Y': 1016.51}, {'IsEmpty': False, 'X': 1274.34, 'Y': 1010.22}, {'IsEmpty': False, 'X': 1280.26, 'Y': 1004.58}, {'IsEmpty': False, 'X': 1286.9, 'Y': 1000.14}, {'IsEmpty': False, 'X': 1293.97, 'Y': 997.644}, {'IsEmpty': False, 'X': 1300.88, 'Y': 997.055}, {'IsEmpty': False, 'X': 1307.35, 'Y': 997.973}, {'IsEmpty': False, 'X': 1313.25, 'Y': 1000.15}, {'IsEmpty': False, 'X': 1318.7, 'Y': 1003.12}, {'IsEmpty': False, 'X': 1323.93, 'Y': 1006.45}], 'Ignored': False}, 'RightEdge': {'EdgePoints': [{'IsEmpty': False, 'X': 1499.01, 'Y': 1279.19}, {'IsEmpty': False, 'X': 1501.02, 'Y': 1274.89}, {'IsEmpty': False, 'X': 1503.11, 'Y': 1270.63}, {'IsEmpty': False, 'X': 1505.18, 'Y': 1266.4}, {'IsEmpty': False, 'X': 1507.19, 'Y': 1262.21}, {'IsEmpty': False, 'X': 1509.2, 'Y': 1258.08}, {'IsEmpty': False, 'X': 1511.27, 'Y': 1253.98}, {'IsEmpty': False, 'X': 1513.5, 'Y': 1249.96}, {'IsEmpty': False, 'X': 1515.83, 'Y': 1245.99}, {'IsEmpty': False, 'X': 1518.21, 'Y': 1242.03}, {'IsEmpty': False, 'X': 1520.58, 'Y': 1238.05}, {'IsEmpty': False, 'X': 1522.96, 'Y': 1234.09}, {'IsEmpty': False, 'X': 1525.41, 'Y': 1230.17}, {'IsEmpty': False, 'X': 1527.97, 'Y': 1226.28}, {'IsEmpty': False, 'X': 1530.62, 'Y': 1222.42}, {'IsEmpty': False, 'X': 1533.38, 'Y': 1218.55}, {'IsEmpty': False, 'X': 1536.21, 'Y': 1214.67}, {'IsEmpty': False, 'X': 1539.09, 'Y': 1210.85}, {'IsEmpty': False, 'X': 1541.97, 'Y': 1207.08}, {'IsEmpty': False, 'X': 1544.78, 'Y': 1203.36}, {'IsEmpty': False, 'X': 1547.43, 'Y': 1199.63}, {'IsEmpty': False, 'X': 1549.87, 'Y': 1195.86}, {'IsEmpty': False, 'X': 1552.05, 'Y': 1192.05}, {'IsEmpty': False, 'X': 1553.91, 'Y': 1188.15}, {'IsEmpty': False, 'X': 1555.43, 'Y': 1184.13}, {'IsEmpty': False, 'X': 1556.61, 'Y': 1179.99}, {'IsEmpty': False, 'X': 1557.6, 'Y': 1175.77}, {'IsEmpty': False, 'X': 1558.54, 'Y': 1171.53}, {'IsEmpty': False, 'X': 1559.53, 'Y': 1167.34}, {'IsEmpty': False, 'X': 1560.54, 'Y': 1163.16}, {'IsEmpty': False, 'X': 1561.51, 'Y': 1158.97}, {'IsEmpty': False, 'X': 1562.4, 'Y': 1154.74}, {'IsEmpty': False, 'X': 1563.09, 'Y': 1150.47}, {'IsEmpty': False, 'X': 1563.45, 'Y': 1146.14}, {'IsEmpty': False, 'X': 1563.37, 'Y': 1141.8}, {'IsEmpty': False, 'X': 1563.0, 'Y': 1137.48}, {'IsEmpty': False, 'X': 1562.52, 'Y': 1133.19}, {'IsEmpty': False, 'X': 1562.05, 'Y': 1128.94}, {'IsEmpty': False, 'X': 1561.51, 'Y': 1124.73}, {'IsEmpty': False, 'X': 1560.72, 'Y': 1120.57}, {'IsEmpty': False, 'X': 1559.46, 'Y': 1116.5}, {'IsEmpty': False, 'X': 1557.65, 'Y': 1112.56}, {'IsEmpty': False, 'X': 1555.42, 'Y': 1108.77}, {'IsEmpty': False, 'X': 1551.84, 'Y': 1100.27}, {'IsEmpty': False, 'X': 1547.79, 'Y': 1091.99}, {'IsEmpty': False, 'X': 1543.15, 'Y': 1083.94}, {'IsEmpty': False, 'X': 1537.64, 'Y': 1076.31}, {'IsEmpty': False, 'X': 1531.3, 'Y': 1069.24}, {'IsEmpty': False, 'X': 1524.48, 'Y': 1062.67}, {'IsEmpty': False, 'X': 1517.38, 'Y': 1056.41}, {'IsEmpty': False, 'X': 1510.01, 'Y': 1050.53}, {'IsEmpty': False, 'X': 1502.29, 'Y': 1045.11}, {'IsEmpty': False, 'X': 1494.3, 'Y': 1040.49}, {'IsEmpty': False, 'X': 1486.1, 'Y': 1036.69}, {'IsEmpty': False, 'X': 1477.44, 'Y': 1034.18}, {'IsEmpty': False, 'X': 1468.61, 'Y': 1033.57}, {'IsEmpty': False, 'X': 1459.98, 'Y': 1033.9}, {'IsEmpty': False, 'X': 1451.45, 'Y': 1034.53}], 'Ignored': False}, 'Quadrant': 4, 'ToothNumber': 5, 'SeverityIndex': 0, 'Centre': {'IsEmpty': False, 'X': 1395.195, 'Y': 1138.12244}, 'Width': 336.51}, {'Name': 'U_4', 'ToothType': 1, 'LeftEdge': {'EdgePoints': [{'IsEmpty': False, 'X': 1618.82, 'Y': 343.113}, {'IsEmpty': False, 'X': 1619.31, 'Y': 349.008}, {'IsEmpty': False, 'X': 1619.7, 'Y': 354.935}, {'IsEmpty': False, 'X': 1619.9, 'Y': 360.906}, {'IsEmpty': False, 'X': 1619.81, 'Y': 366.894}, {'IsEmpty': False, 'X': 1619.47, 'Y': 372.885}, {'IsEmpty': False, 'X': 1618.95, 'Y': 378.887}, {'IsEmpty': False, 'X': 1618.29, 'Y': 384.885}, {'IsEmpty': False, 'X': 1617.55, 'Y': 390.869}, {'IsEmpty': False, 'X': 1616.76, 'Y': 396.857}, {'IsEmpty': False, 'X': 1615.94, 'Y': 402.843}, {'IsEmpty': False, 'X': 1615.09, 'Y': 408.817}, {'IsEmpty': False, 'X': 1614.18, 'Y': 414.78}, {'IsEmpty': False, 'X': 1613.2, 'Y': 420.704}, {'IsEmpty': False, 'X': 1612.18, 'Y': 426.593}, {'IsEmpty': False, 'X': 1611.12, 'Y': 432.476}, {'IsEmpty': False, 'X': 1610.02, 'Y': 438.358}, {'IsEmpty': False, 'X': 1608.87, 'Y': 444.238}, {'IsEmpty': False, 'X': 1607.64, 'Y': 450.13}, {'IsEmpty': False, 'X': 1606.33, 'Y': 456.02}, {'IsEmpty': False, 'X': 1604.98, 'Y': 461.896}, {'IsEmpty': False, 'X': 1603.64, 'Y': 467.778}, {'IsEmpty': False, 'X': 1602.34, 'Y': 473.669}, {'IsEmpty': False, 'X': 1601.03, 'Y': 479.552}, {'IsEmpty': False, 'X': 1599.64, 'Y': 485.421}, {'IsEmpty': False, 'X': 1598.15, 'Y': 491.26}, {'IsEmpty': False, 'X': 1596.59, 'Y': 497.08}, {'IsEmpty': False, 'X': 1595.05, 'Y': 502.91}, {'IsEmpty': False, 'X': 1593.59, 'Y': 508.757}, {'IsEmpty': False, 'X': 1592.23, 'Y': 514.623}, {'IsEmpty': False, 'X': 1590.97, 'Y': 520.527}, {'IsEmpty': False, 'X': 1589.81, 'Y': 526.467}, {'IsEmpty': False, 'X': 1588.72, 'Y': 532.412}, {'IsEmpty': False, 'X': 1587.63, 'Y': 538.348}, {'IsEmpty': False, 'X': 1586.53, 'Y': 544.264}, {'IsEmpty': False, 'X': 1585.54, 'Y': 550.19}, {'IsEmpty': False, 'X': 1584.84, 'Y': 556.159}, {'IsEmpty': False, 'X': 1584.54, 'Y': 562.16}, {'IsEmpty': False, 'X': 1584.6, 'Y': 568.161}, {'IsEmpty': False, 'X': 1584.93, 'Y': 574.158}, {'IsEmpty': False, 'X': 1585.59, 'Y': 580.133}, {'IsEmpty': False, 'X': 1586.86, 'Y': 586.001}, {'IsEmpty': False, 'X': 1588.86, 'Y': 591.614}, {'IsEmpty': False, 'X': 1592.3, 'Y': 598.652}, {'IsEmpty': False, 'X': 1596.23, 'Y': 605.374}, {'IsEmpty': False, 'X': 1600.39, 'Y': 612.038}, {'IsEmpty': False, 'X': 1604.55, 'Y': 618.806}, {'IsEmpty': False, 'X': 1608.68, 'Y': 625.529}, {'IsEmpty': False, 'X': 1612.8, 'Y': 632.179}, {'IsEmpty': False, 'X': 1616.92, 'Y': 638.827}, {'IsEmpty': False, 'X': 1621.3, 'Y': 645.433}, {'IsEmpty': False, 'X': 1626.29, 'Y': 651.832}, {'IsEmpty': False, 'X': 1632.11, 'Y': 657.677}, {'IsEmpty': False, 'X': 1638.6, 'Y': 662.747}, {'IsEmpty': False, 'X': 1645.61, 'Y': 666.861}, {'IsEmpty': False, 'X': 1652.9, 'Y': 669.817}, {'IsEmpty': False, 'X': 1660.21, 'Y': 671.961}, {'IsEmpty': False, 'X': 1667.5, 'Y': 673.74}], 'Ignored': False}, 'RightEdge': {'EdgePoints': [{'IsEmpty': False, 'X': 1811.49, 'Y': 343.61}, {'IsEmpty': False, 'X': 1812.52, 'Y': 350.149}, {'IsEmpty': False, 'X': 1813.62, 'Y': 356.69}, {'IsEmpty': False, 'X': 1814.84, 'Y': 363.224}, {'IsEmpty': False, 'X': 1816.23, 'Y': 369.724}, {'IsEmpty': False, 'X': 1817.79, 'Y': 376.19}, {'IsEmpty': False, 'X': 1819.49, 'Y': 382.632}, {'IsEmpty': False, 'X': 1821.32, 'Y': 389.025}, {'IsEmpty': False, 'X': 1823.25, 'Y': 395.38}, {'IsEmpty': False, 'X': 1825.26, 'Y': 401.72}, {'IsEmpty': False, 'X': 1827.24, 'Y': 408.001}, {'IsEmpty': False, 'X': 1829.16, 'Y': 414.242}, {'IsEmpty': False, 'X': 1831.02, 'Y': 420.551}, {'IsEmpty': False, 'X': 1832.83, 'Y': 426.958}, {'IsEmpty': False, 'X': 1834.7, 'Y': 433.384}, {'IsEmpty': False, 'X': 1836.78, 'Y': 439.767}, {'IsEmpty': False, 'X': 1839.15, 'Y': 446.028}, {'IsEmpty': False, 'X': 1841.72, 'Y': 452.2}, {'IsEmpty': False, 'X': 1844.3, 'Y': 458.379}, {'IsEmpty': False, 'X': 1846.79, 'Y': 464.59}, {'IsEmpty': False, 'X': 1849.17, 'Y': 470.813}, {'IsEmpty': False, 'X': 1851.49, 'Y': 477.066}, {'IsEmpty': False, 'X': 1853.75, 'Y': 483.347}, {'IsEmpty': False, 'X': 1855.98, 'Y': 489.639}, {'IsEmpty': False, 'X': 1858.22, 'Y': 495.938}, {'IsEmpty': False, 'X': 1860.48, 'Y': 502.233}, {'IsEmpty': False, 'X': 1862.76, 'Y': 508.532}, {'IsEmpty': False, 'X': 1865.03, 'Y': 514.855}, {'IsEmpty': False, 'X': 1867.25, 'Y': 521.186}, {'IsEmpty': False, 'X': 1869.43, 'Y': 527.519}, {'IsEmpty': False, 'X': 1871.54, 'Y': 533.891}, {'IsEmpty': False, 'X': 1873.59, 'Y': 540.308}, {'IsEmpty': False, 'X': 1875.57, 'Y': 546.743}, {'IsEmpty': False, 'X': 1877.5, 'Y': 553.186}, {'IsEmpty': False, 'X': 1879.39, 'Y': 559.633}, {'IsEmpty': False, 'X': 1881.18, 'Y': 566.105}, {'IsEmpty': False, 'X': 1882.76, 'Y': 572.623}, {'IsEmpty': False, 'X': 1884.07, 'Y': 579.174}, {'IsEmpty': False, 'X': 1885.01, 'Y': 585.766}, {'IsEmpty': False, 'X': 1885.47, 'Y': 592.432}, {'IsEmpty': False, 'X': 1885.33, 'Y': 599.147}, {'IsEmpty': False, 'X': 1884.67, 'Y': 605.838}, {'IsEmpty': False, 'X': 1883.56, 'Y': 612.471}, {'IsEmpty': False, 'X': 1881.98, 'Y': 618.106}, {'IsEmpty': False, 'X': 1880.2, 'Y': 623.552}, {'IsEmpty': False, 'X': 1878.35, 'Y': 628.938}, {'IsEmpty': False, 'X': 1876.56, 'Y': 634.422}, {'IsEmpty': False, 'X': 1874.39, 'Y': 639.813}, {'IsEmpty': False, 'X': 1871.51, 'Y': 644.791}, {'IsEmpty': False, 'X': 1867.52, 'Y': 648.732}, {'IsEmpty': False, 'X': 1862.75, 'Y': 651.596}, {'IsEmpty': False, 'X': 1857.21, 'Y': 653.339}, {'IsEmpty': False, 'X': 1850.97, 'Y': 653.323}, {'IsEmpty': False, 'X': 1844.8, 'Y': 651.953}, {'IsEmpty': False, 'X': 1838.86, 'Y': 649.879}, {'IsEmpty': False, 'X': 1833.24, 'Y': 647.471}, {'IsEmpty': False, 'X': 1827.85, 'Y': 644.992}, {'IsEmpty': False, 'X': 1822.58, 'Y': 642.501}], 'Ignored': False}, 'Quadrant': 1, 'ToothNumber': 4, 'SeverityIndex': 0, 'Centre': {'IsEmpty': False, 'X': 1735.005, 'Y': 508.4265}, 'Width': 300.929932}, {'Name': 'L_4', 'ToothType': 3, 'LeftEdge': {'EdgePoints': [{'IsEmpty': False, 'X': 1571.191, 'Y': 1338.16}, {'IsEmpty': False, 'X': 1571.53711, 'Y': 1333.30994}, {'IsEmpty': False, 'X': 1571.75684, 'Y': 1328.41663}, {'IsEmpty': False, 'X': 1571.85791, 'Y': 1323.483}, {'IsEmpty': False, 'X': 1571.84851, 'Y': 1318.51184}, {'IsEmpty': False, 'X': 1571.73657, 'Y': 1313.5061}, {'IsEmpty': False, 'X': 1571.52991, 'Y': 1308.46875}, {'IsEmpty': False, 'X': 1571.23645, 'Y': 1303.40259}, {'IsEmpty': False, 'X': 1570.86438, 'Y': 1298.31042}, {'IsEmpty': False, 'X': 1570.42151, 'Y': 1293.19543}, {'IsEmpty': False, 'X': 1569.91577, 'Y': 1288.06018}, {'IsEmpty': False, 'X': 1569.35522, 'Y': 1282.90784}, {'IsEmpty': False, 'X': 1568.74768, 'Y': 1277.74121}, {'IsEmpty': False, 'X': 1568.1012, 'Y': 1272.56323}, {'IsEmpty': False, 'X': 1567.42371, 'Y': 1267.37659}, {'IsEmpty': False, 'X': 1566.72314, 'Y': 1262.18445}, {'IsEmpty': False, 'X': 1566.00745, 'Y': 1256.98962}, {'IsEmpty': False, 'X': 1565.28455, 'Y': 1251.79492}, {'IsEmpty': False, 'X': 1564.5625, 'Y': 1246.60339}, {'IsEmpty': False, 'X': 1563.84924, 'Y': 1241.41785}, {'IsEmpty': False, 'X': 1563.15271, 'Y': 1236.24109}, {'IsEmpty': False, 'X': 1562.48083, 'Y': 1231.07617}, {'IsEmpty': False, 'X': 1561.84143, 'Y': 1225.926}, {'IsEmpty': False, 'X': 1561.2428, 'Y': 1220.79333}, {'IsEmpty': False, 'X': 1560.6925, 'Y': 1215.68115}, {'IsEmpty': False, 'X': 1560.19885, 'Y': 1210.59241}, {'IsEmpty': False, 'X': 1559.76953, 'Y': 1205.52991}, {'IsEmpty': False, 'X': 1559.4126, 'Y': 1200.49646}, {'IsEmpty': False, 'X': 1559.13611, 'Y': 1195.49524}, {'IsEmpty': False, 'X': 1558.94788, 'Y': 1190.52893}, {'IsEmpty': False, 'X': 1558.85583, 'Y': 1185.60046}, {'IsEmpty': False, 'X': 1558.868, 'Y': 1180.71277}, {'IsEmpty': False, 'X': 1558.99231, 'Y': 1175.86877}, {'IsEmpty': False, 'X': 1559.23682, 'Y': 1171.07129}, {'IsEmpty': False, 'X': 1559.60925, 'Y': 1166.32324}, {'IsEmpty': False, 'X': 1560.1178, 'Y': 1161.62756}, {'IsEmpty': False, 'X': 1560.77039, 'Y': 1156.98718}, {'IsEmpty': False, 'X': 1561.57483, 'Y': 1152.40491}, {'IsEmpty': False, 'X': 1562.53918, 'Y': 1147.88367}, {'IsEmpty': False, 'X': 1563.67126, 'Y': 1143.42639}, {'IsEmpty': False, 'X': 1564.97925, 'Y': 1139.03589}, {'IsEmpty': False, 'X': 1566.471, 'Y': 1134.71521}, {'IsEmpty': False, 'X': 1568.1543, 'Y': 1130.46716}, {'IsEmpty': False, 'X': 1570.03735, 'Y': 1126.29468}, {'IsEmpty': False, 'X': 1572.128, 'Y': 1122.20056}, {'IsEmpty': False, 'X': 1574.43433, 'Y': 1118.18774}, {'IsEmpty': False, 'X': 1576.964, 'Y': 1114.25916}, {'IsEmpty': False, 'X': 1579.72522, 'Y': 1110.41785}, {'IsEmpty': False, 'X': 1582.72583, 'Y': 1106.66638}, {'IsEmpty': False, 'X': 1585.97388, 'Y': 1103.00793}, {'IsEmpty': False, 'X': 1589.47717, 'Y': 1099.44531}, {'IsEmpty': False, 'X': 1593.24377, 'Y': 1095.98132}, {'IsEmpty': False, 'X': 1597.28174, 'Y': 1092.619}, {'IsEmpty': False, 'X': 1601.59875, 'Y': 1089.36121}, {'IsEmpty': False, 'X': 1606.203, 'Y': 1086.21082}, {'IsEmpty': False, 'X': 1611.10229, 'Y': 1083.17065}, {'IsEmpty': False, 'X': 1616.30457, 'Y': 1080.24377}, {'IsEmpty': False, 'X': 1621.818, 'Y': 1077.433}], 'Ignored': False}, 'RightEdge': {'EdgePoints': [{'IsEmpty': False, 'X': 1849.638, 'Y': 1328.035}, {'IsEmpty': False, 'X': 1851.41675, 'Y': 1323.2627}, {'IsEmpty': False, 'X': 1853.34509, 'Y': 1318.45093}, {'IsEmpty': False, 'X': 1855.41187, 'Y': 1313.602}, {'IsEmpty': False, 'X': 1857.60583, 'Y': 1308.718}, {'IsEmpty': False, 'X': 1859.91577, 'Y': 1303.8009}, {'IsEmpty': False, 'X': 1862.33057, 'Y': 1298.85291}, {'IsEmpty': False, 'X': 1864.83887, 'Y': 1293.876}, {'IsEmpty': False, 'X': 1867.42969, 'Y': 1288.87231}, {'IsEmpty': False, 'X': 1870.0918, 'Y': 1283.84412}, {'IsEmpty': False, 'X': 1872.814, 'Y': 1278.79333}, {'IsEmpty': False, 'X': 1875.58484, 'Y': 1273.722}, {'IsEmpty': False, 'X': 1878.39355, 'Y': 1268.63245}, {'IsEmpty': False, 'X': 1881.22864, 'Y': 1263.52661}, {'IsEmpty': False, 'X': 1884.079, 'Y': 1258.40662}, {'IsEmpty': False, 'X': 1886.93347, 'Y': 1253.27454}, {'IsEmpty': False, 'X': 1889.78088, 'Y': 1248.13257}, {'IsEmpty': False, 'X': 1892.60986, 'Y': 1242.98267}, {'IsEmpty': False, 'X': 1895.40955, 'Y': 1237.82715}, {'IsEmpty': False, 'X': 1898.16846, 'Y': 1232.66785}, {'IsEmpty': False, 'X': 1900.87549, 'Y': 1227.50708}, {'IsEmpty': False, 'X': 1903.51941, 'Y': 1222.3468}, {'IsEmpty': False, 'X': 1906.08923, 'Y': 1217.18921}, {'IsEmpty': False, 'X': 1908.57349, 'Y': 1212.03638}, {'IsEmpty': False, 'X': 1910.96118, 'Y': 1206.89038}, {'IsEmpty': False, 'X': 1913.241, 'Y': 1201.7533}, {'IsEmpty': False, 'X': 1915.40186, 'Y': 1196.6272}, {'IsEmpty': False, 'X': 1917.4325, 'Y': 1191.5144}, {'IsEmpty': False, 'X': 1919.32166, 'Y': 1186.41675}, {'IsEmpty': False, 'X': 1921.05835, 'Y': 1181.33643}, {'IsEmpty': False, 'X': 1922.6311, 'Y': 1176.27551}, {'IsEmpty': False, 'X': 1924.029, 'Y': 1171.23621}, {'IsEmpty': False, 'X': 1925.24072, 'Y': 1166.22058}, {'IsEmpty': False, 'X': 1926.255, 'Y': 1161.23059}, {'IsEmpty': False, 'X': 1927.06079, 'Y': 1156.26843}, {'IsEmpty': False, 'X': 1927.64685, 'Y': 1151.3363}, {'IsEmpty': False, 'X': 1928.00208, 'Y': 1146.43616}, {'IsEmpty': False, 'X': 1928.115, 'Y': 1141.57019}, {'IsEmpty': False, 'X': 1927.97473, 'Y': 1136.74036}, {'IsEmpty': False, 'X': 1927.56982, 'Y': 1131.949}, {'IsEmpty': False, 'X': 1926.8894, 'Y': 1127.19788}, {'IsEmpty': False, 'X': 1925.922, 'Y': 1122.4895}, {'IsEmpty': False, 'X': 1924.65649, 'Y': 1117.82556}, {'IsEmpty': False, 'X': 1923.08167, 'Y': 1113.2085}, {'IsEmpty': False, 'X': 1921.1864, 'Y': 1108.64026}, {'IsEmpty': False, 'X': 1918.95959, 'Y': 1104.1228}, {'IsEmpty': False, 'X': 1916.38989, 'Y': 1099.65845}, {'IsEmpty': False, 'X': 1913.46606, 'Y': 1095.24927}, {'IsEmpty': False, 'X': 1910.177, 'Y': 1090.89734}, {'IsEmpty': False, 'X': 1906.5116, 'Y': 1086.60461}, {'IsEmpty': False, 'X': 1902.45862, 'Y': 1082.37341}, {'IsEmpty': False, 'X': 1898.00671, 'Y': 1078.20569}, {'IsEmpty': False, 'X': 1893.1449, 'Y': 1074.10364}, {'IsEmpty': False, 'X': 1887.86182, 'Y': 1070.06921}, {'IsEmpty': False, 'X': 1882.14648, 'Y': 1066.10474}, {'IsEmpty': False, 'X': 1875.98743, 'Y': 1062.212}, {'IsEmpty': False, 'X': 1869.37366, 'Y': 1058.39343}, {'IsEmpty': False, 'X': 1862.294, 'Y': 1054.651}], 'Ignored': False}, 'Quadrant': 4, 'ToothNumber': 4, 'SeverityIndex': 0, 'Centre': {'IsEmpty': False, 'X': 1743.48535, 'Y': 1196.40552}, 'Width': 369.259155}], 'CariesROIs': [], 'Filename': 'C:\\\\MIL_Src\\\\data\\\\images\\\\setB\\\\image8.tif', 'Rotation': 0}\n"
     ]
    }
   ],
   "source": [
    "\n",
    "dataDir = os.path.join(\"C:\\MIL_Src\\data\\points\\consolidated\\Caries Markup\",\"C-MIL_Src-data-images-setB\")\n",
    "print(dataDir)\n",
    "annotation_json = os.path.join(dataDir,\"image8.tif.edges.json\")\n",
    "json_file = open(annotation_json)\n",
    "mil_json = json.load(json_file)\n",
    "json_file.close()\n",
    "print(mil_json)\n"
   ]
  },
  {
   "cell_type": "code",
   "execution_count": 5,
   "metadata": {},
   "outputs": [],
   "source": [
    "# Take a close look at the data\n",
    "mil_json['Teeth'][0]\n",
    "tooth = mil_json['Teeth'][0]\n",
    "\n"
   ]
  },
  {
   "cell_type": "code",
   "execution_count": null,
   "metadata": {
    "collapsed": true
   },
   "outputs": [],
   "source": [
    "\n",
    "dataDir='..'\n",
    "dataType='val2017'\n",
    "annFile='{}/annotations/instances_{}.json'.format(dataDir,dataType)"
   ]
  },
  {
   "cell_type": "code",
   "execution_count": null,
   "metadata": {},
   "outputs": [],
   "source": [
    "# initialize COCO api for instance annotations\n",
    "coco=COCO(annFile)"
   ]
  },
  {
   "cell_type": "code",
   "execution_count": null,
   "metadata": {
    "scrolled": true
   },
   "outputs": [],
   "source": [
    "# display COCO categories and supercategories\n",
    "cats = coco.loadCats(coco.getCatIds())\n",
    "nms=[cat['name'] for cat in cats]\n",
    "print('COCO categories: \\n{}\\n'.format(' '.join(nms)))\n",
    "\n",
    "nms = set([cat['supercategory'] for cat in cats])\n",
    "print('COCO supercategories: \\n{}'.format(' '.join(nms)))"
   ]
  },
  {
   "cell_type": "code",
   "execution_count": null,
   "metadata": {},
   "outputs": [],
   "source": [
    "# get all images containing given categories, select one at random\n",
    "catIds = coco.getCatIds(catNms=['person','dog','skateboard']);\n",
    "imgIds = coco.getImgIds(catIds=catIds );\n",
    "imgIds = coco.getImgIds(imgIds = [324158])\n",
    "img = coco.loadImgs(imgIds[np.random.randint(0,len(imgIds))])[0]"
   ]
  },
  {
   "cell_type": "code",
   "execution_count": null,
   "metadata": {},
   "outputs": [],
   "source": [
    "# load and display image\n",
    "# I = io.imread('%s/images/%s/%s'%(dataDir,dataType,img['file_name']))\n",
    "# use url to load image\n",
    "I = io.imread(img['coco_url'])\n",
    "plt.axis('off')\n",
    "plt.imshow(I)\n",
    "plt.show()"
   ]
  },
  {
   "cell_type": "code",
   "execution_count": null,
   "metadata": {},
   "outputs": [],
   "source": [
    "# load and display instance annotations\n",
    "plt.imshow(I); plt.axis('off')\n",
    "annIds = coco.getAnnIds(imgIds=img['id'], catIds=catIds, iscrowd=None)\n",
    "anns = coco.loadAnns(annIds)\n",
    "coco.showAnns(anns)"
   ]
  },
  {
   "cell_type": "code",
   "execution_count": null,
   "metadata": {},
   "outputs": [],
   "source": [
    "# initialize COCO api for person keypoints annotations\n",
    "annFile = '{}/annotations/person_keypoints_{}.json'.format(dataDir,dataType)\n",
    "coco_kps=COCO(annFile)"
   ]
  },
  {
   "cell_type": "code",
   "execution_count": null,
   "metadata": {},
   "outputs": [],
   "source": [
    "# load and display keypoints annotations\n",
    "plt.imshow(I); plt.axis('off')\n",
    "ax = plt.gca()\n",
    "annIds = coco_kps.getAnnIds(imgIds=img['id'], catIds=catIds, iscrowd=None)\n",
    "anns = coco_kps.loadAnns(annIds)\n",
    "coco_kps.showAnns(anns)"
   ]
  },
  {
   "cell_type": "code",
   "execution_count": null,
   "metadata": {},
   "outputs": [],
   "source": [
    "# initialize COCO api for caption annotations\n",
    "annFile = '{}/annotations/captions_{}.json'.format(dataDir,dataType)\n",
    "coco_caps=COCO(annFile)"
   ]
  },
  {
   "cell_type": "code",
   "execution_count": null,
   "metadata": {},
   "outputs": [],
   "source": [
    "# load and display caption annotations\n",
    "annIds = coco_caps.getAnnIds(imgIds=img['id']);\n",
    "anns = coco_caps.loadAnns(annIds)\n",
    "coco_caps.showAnns(anns)\n",
    "plt.imshow(I); plt.axis('off'); plt.show()"
   ]
  }
 ],
 "metadata": {
  "kernelspec": {
   "name": "Python 3.7.9 64-bit ('ak_mask_rcnn': conda)",
   "display_name": "Python 3.7.9 64-bit ('ak_mask_rcnn': conda)",
   "metadata": {
    "interpreter": {
     "hash": "e2e32dcb2ad1acec0d5f29cbebc6c3f26f43f22a1c42df61477286c606c34b6b"
    }
   }
  },
  "language_info": {
   "codemirror_mode": {
    "name": "ipython",
    "version": 2
   },
   "file_extension": ".py",
   "mimetype": "text/x-python",
   "name": "python",
   "nbconvert_exporter": "python",
   "pygments_lexer": "ipython2",
   "version": "3.7.9-final"
  }
 },
 "nbformat": 4,
 "nbformat_minor": 1
}